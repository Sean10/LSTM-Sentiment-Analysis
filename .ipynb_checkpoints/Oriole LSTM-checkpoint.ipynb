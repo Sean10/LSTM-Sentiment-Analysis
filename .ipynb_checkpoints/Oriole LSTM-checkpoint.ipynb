{
 "cells": [
  {
   "cell_type": "markdown",
   "metadata": {},
   "source": [
    "# Sentiment Analysis with LSTMs"
   ]
  },
  {
   "cell_type": "markdown",
   "metadata": {},
   "source": [
    "In this notebook, we'll be looking at how to apply deep learning techniques to the task of sentiment analysis. Sentiment analysis can be thought of as the exercise of taking a sentence, paragraph, document, or any piece of natural language, and determining whether that text's emotional tone is positive, negative or neutral. \n",
    "\n",
    "This notebook will go through numerous topics like word vectors, recurrent neural networks, and long short-term memory units (LSTMs). After getting a good understanding of these terms, we’ll walk through concrete code examples and a full Tensorflow sentiment classifier at the end.\n",
    "\n",
    "Before getting into the specifics, let's discuss the reasons why deep learning fits into natural language processing (NLP) tasks. "
   ]
  },
  {
   "cell_type": "markdown",
   "metadata": {},
   "source": [
    "# Deep Learning for NLP "
   ]
  },
  {
   "cell_type": "markdown",
   "metadata": {},
   "source": [
    "Natural language processing is all about creating systems that process or “understand” language in order to perform certain tasks. These tasks could include:\n",
    "\n",
    "* Question Answering - The main job of technologies like Siri, Alexa, and Cortana\n",
    "* Sentiment Analysis - Determining the emotional tone behind a piece of text\n",
    "* Image to Text Mappings - Generating a caption for an input image\n",
    "* Machine Translation - Translating a paragraph of text to another language\n",
    "* Speech Recognition - Having computers recognize spoken words\n",
    "\n",
    "In the pre-deep learning era, NLP was a thriving field that saw lots of different advancements. However, in all of the successes in the aforementioned tasks, one needed to do a lot of feature enginering and thus had to have a lot of domain knowledge in linguistics. Entire 4 year degrees are devoted to this field of study, as practitioners needed to be comfortable with terms like phonemes and morphemes. In the past few years, deep learning has seen incredible progress and has largely removed the requirement of strong domain knowledge. As a result of the lower barrier to entry, applications to NLP tasks have been one of the biggest areas of deep learning research. "
   ]
  },
  {
   "cell_type": "markdown",
   "metadata": {},
   "source": [
    "# Word Vectors"
   ]
  },
  {
   "cell_type": "markdown",
   "metadata": {},
   "source": [
    "In order to understand how deep learning can be applied, think about all the different forms of data that are used as inputs into machine learning or deep learning models. Convolutional neural networks use arrays of pixel values, logistic regression uses quantifiable features, and reinforcement learning models use reward signals. The common theme is that the inputs need to be scalar values, or matrices of scalar values. When you think of NLP tasks, however, a data pipeline like this may come to mind. \n",
    " \n",
    "![caption](Images/SentimentAnalysis.png)\n",
    "\n",
    "This kind of pipeline is problematic. There is no way for us to do common operations like dot products or backpropagation on a single string. Instead of having a string input, we will need to convert each word in the sentence to a vector. \n",
    "\n",
    "![caption](Images/SentimentAnalysis2.png)\n",
    "\n",
    "You can think of the input to the sentiment analysis module as being a 16 x D dimensional matrix. "
   ]
  },
  {
   "cell_type": "markdown",
   "metadata": {},
   "source": [
    "We want these vectors to be created in such a way that they somehow represent the word and its context, meaning, and semantics. For example, we’d like the vectors for the words “love” and “adore” to reside in relatively the same area in the vector space since they both have similar definitions and are both used in similar contexts. The vector representation of a word is also known as a word embedding.\n",
    "\n",
    "![caption](Images/SentimentAnalysis8.png)"
   ]
  },
  {
   "cell_type": "markdown",
   "metadata": {},
   "source": [
    "# Word2Vec"
   ]
  },
  {
   "cell_type": "markdown",
   "metadata": {},
   "source": [
    "In order to create these word embeddings, we'll use a model that's commonly reffered to as \"Word2Vec\". Without going into too much detail, the model creates word vectors by looking at the context with which words appear in sentences. Words with similar contexts will be placed close together in the vector space. In natural language, the context of words can be very important when trying to determine their meanings. Taking our previous example of the words \"adore\" and \"love\", consider the types of sentences we'd find these words in.\n",
    "\n",
    "![caption](Images/SentimentAnalysis9.png)\n",
    "\n",
    "From the context of the sentences, we can see that both words are generally used in sentences with positive connotations and generally precede nouns or noun phrases. This is an indication that both words have something in common and can possibly be synonyms. Context is also very important when considering grammatical structure in sentences. Most sentences will follow traditional paradigms of having verbs follow nouns, adjectives precede nouns, and so on. For this reason, the model is more likely to position nouns in the same general area as other nouns. The model takes in a large dataset of sentences (English Wikipedia for example) and outputs vectors for each unique word in the corpus. The output of a Word2Vec model is called an embedding matrix.\n",
    "\n",
    "![caption](Images/SentimentAnalysis3.png)\n",
    "\n",
    "This embedding matrix will contain vectors for every distinct word in the training corpus. Traditionally, embedding matrices can contain over 3 million word vectors.\n",
    "\n",
    "The Word2Vec model is trained by taking each sentence in the dataset, sliding a window of fixed size over it, and trying to predict the center word of the window, given the other words. Using a loss function and optimization procedure, the model generates vectors for each unique word. The specifics of this training procedure can get a little complicated, so we’re going to skip over the details for now, but the main takeaway here is that inputs into any Deep Learning approach to an NLP task will likely have word vectors as input.\n",
    "\n",
    "For more information on the theory behind Word2Vec and how you create your own embeddings, check out Tensorflow's [tutorial](https://www.tensorflow.org/tutorials/word2vec)"
   ]
  },
  {
   "cell_type": "markdown",
   "metadata": {},
   "source": [
    "# Recurrent Neural Networks (RNNs)"
   ]
  },
  {
   "cell_type": "markdown",
   "metadata": {},
   "source": [
    "Now that we have our word vectors as input, let's look at the actual network architecture we're going to be building. The unique aspect of NLP data is that there is a temporal aspect to it. Each word in a sentence depends greatly on what came before and comes after it. In order to account for this dependency, we use a recurrent neural network.  \n",
    "\n",
    "The recurrent neural network structure is a little different from the traditional feedforward NN you may be accostumed to seeing. The feedforward network consists of input nodes, hidden units, and output nodes. \n",
    "\n",
    "![caption](Images/SentimentAnalysis17.png)\n",
    "\n",
    "The main difference between feedforward neural networks and recurrent ones is the temporal aspect of the latter. In RNNs, each word in an input sequence will be associated with a specific time step. In effect, the number of time steps will be equal to the max sequence length. \n",
    "\n",
    "![caption](Images/SentimentAnalysis18.png)\n",
    "\n",
    "Associated with each time step is also a new component called a hidden state vector h<sub>t</sub>. From a high level, this vector seeks to encapsulate and summarize all of the information that was seen in the previous time steps. Just like x<sub>t</sub> is a vector that encapsulates all the information of a specific word, h<sub>t</sub> is a vector that summarizes information from previous time steps.\n",
    "\n",
    "The hidden state is a function of both the current word vector and the hidden state vector at the previous time step. The sigma indicates that the sum of the two terms will be put through an activation function (normally a sigmoid or tanh).\n",
    "\n",
    "![caption](Images/SentimentAnalysis15.png)\n",
    "\n",
    "The 2 W terms in the above formulation represent weight matrices. If you take a close look at the superscripts, you’ll see that there’s a weight matrix W<sup>X</sup> which we’re going to multiply with our input, and there’s a recurrent weight matrix W<sup>H</sup> which is multiplied with the hidden state vector at the previous time step. W<sup>H</sup> is a matrix that stays the same across all time steps, and the weight matrix W<sup>X</sup> is different for each input. \n",
    "\n",
    "The magnitude of these weight matrices impact the amount the hidden state vector is affected by either the current vector or the previous hidden state. As an exercise, take a look at the above formula, and consider how h<sub>t</sub> would change if either W<sup>X</sup> or W<sup>H</sup> had large or small values. \n",
    "\n",
    "Let's look at a quick example. When the magnitude of W<sup>H</sup> is large and the magnitude of W<sup>X</sup> is small, we know that h<sub>t</sub> is largely affected by h<sub>t-1</sub> and unaffected by x<sub>t</sub>. In other words, the current hidden state vector sees that the current word is largely inconsequential to the overall summary of the sentence, and thus it will take on mostly the same value as the vector at the previous time step. (什么叫mostly the same value)\n",
    "\n",
    "The weight matrices are updated through an optimization process called backpropagation through time. \n",
    "\n",
    "The hidden state vector at the final time step is fed into a binary softmax classifier where it is multiplied by another weight matrix and put through a softmax function that outputs values between 0 and 1, effectively giving us the probabilities of positive and negative sentiment. \n",
    "\n",
    "![caption](Images/SentimentAnalysis16.png)"
   ]
  },
  {
   "cell_type": "markdown",
   "metadata": {},
   "source": [
    "# Long Short Term Memory Units (LSTMs) "
   ]
  },
  {
   "cell_type": "markdown",
   "metadata": {},
   "source": [
    "Long Short Term Memory Units are modules that you can place inside of reucrrent neural entworks. At a high level, they make sure that the hidden state vector h is able to encapsulate information about long term dependencies in the text. As we saw in the previous section, the formulation for h in traditional RNNs is relatively simple. This approach won't be able to effectively connect together information that is separated by more than a couple time steps. We can illiustrate this idea of handling long term dependencies through an example in the field of question answering. The function of question answering models is to take an a passage of text, and answer a question about its content. Let's look at the following example.\n",
    "\n",
    "![caption](Images/SentimentAnalysis4.png)\n",
    "\n",
    "Here, we see that the middle sentence had no impact on the question that was asked. However, there is a strong connection between the first and third sentences. With a classic RNN, the hidden state vector at the end of the network might have stored more information about the dog sentence than about the first sentence about the number. Basically, the addition of LSTM units make it possible to determine the correct and useful information that needs to be stored in the hidden state vector.\n",
    "\n",
    "Looking at LSTM units from a more technical viewpoint, the units take in the current word vector x<sub>t</sub> and output the hidden state vector h<sub>t</sub>. In these units, the formulation for h<sub>t</sub> will be a bit more complex than that in a typical RNN. The computation is broken up into 4 components, an input gate, a forget gate, an output gate, and a new memory container. \n",
    "\n",
    "![caption](Images/SentimentAnalysis10.png)\n",
    "\n",
    "Each gate will take in x<sub>t</sub> and h<sub>t-1</sub> (not shown in image) as inputs and will perform some computation on them to obtain intermediate states. Each intermediate state gets fed into different pipelines and eventually the information is aggregated to form h<sub>t</sub>. For simplicity sake, we won't go into the specific formulations for each gate, but it's worth noting that each of these gates can be thought of as different modules within the LSTM that each have different functions. The input gate determines how much emphasis to put on each of the inputs, the forget gate determines the information that we'll throw away, and the output gate determines the final h<sub>t</sub> based on the intermediate states. For more information on understanding the functions of the different gates and the full equations, check out Christopher Olah's great [blog post](http://colah.github.io/posts/2015-08-Understanding-LSTMs/).\n",
    "\n",
    "Looking back at the first example with question “What is the sum of the two numbers?”, the model would have to be trained on similar types of questions and answers. The LSTM units would then be able to realize that any sentence without numbers will likely not have an impact on the answer to the question, and thus the unit will be able to utilize its forget gate to discard the unnecessary information about the dog, and rather keep the information regarding the numbers. "
   ]
  },
  {
   "cell_type": "markdown",
   "metadata": {},
   "source": [
    "# Framing Sentiment Analysis as a Deep Learning Problem"
   ]
  },
  {
   "cell_type": "markdown",
   "metadata": {},
   "source": [
    "As mentioned before, the task of sentiment analysis involves taking in an input sequence of words and determining whether the sentiment is positive, negative, or neutral. We can separate this specific task (and most other NLP tasks) into 5 different components.\n",
    "\n",
    "    1) Training a word vector generation model (such as Word2Vec) or loading pretrained word vectors\n",
    "    2) Creating an ID's matrix for our training set (We'll discuss this a bit later)\n",
    "    3) RNN (With LSTM units) graph creation\n",
    "    4) Training \n",
    "    5) Testing"
   ]
  },
  {
   "cell_type": "markdown",
   "metadata": {},
   "source": [
    "# Loading Data "
   ]
  },
  {
   "cell_type": "markdown",
   "metadata": {},
   "source": [
    "First, we want to create our word vectors. For simplicity, we're going to be using a pretrained model. \n",
    "\n",
    "As one of the biggest players in the ML game, Google was able to train a Word2Vec model on a massive Google News dataset that contained over 100 billion different words! From that model, Google [was able to create 3 million word vectors](https://code.google.com/archive/p/word2vec/#Pre-trained_word_and_phrase_vectors), each with a dimensionality of 300. \n",
    "\n",
    "In an ideal scenario, we'd use those vectors, but since the word vectors matrix is quite large (3.6 GB!), we'll be using a much more manageable matrix that is trained using [GloVe](http://nlp.stanford.edu/projects/glove/), a similar word vector generation model. The matrix will contain 400,000 word vectors, each with a dimensionality of 50. \n",
    "\n",
    "We're going to be importing two different data structures, one will be a Python list with the 400,000 words, and one will be a 400,000 x 50 dimensional embedding matrix that holds all of the word vector values. "
   ]
  },
  {
   "cell_type": "code",
   "execution_count": 2,
   "metadata": {},
   "outputs": [
    {
     "name": "stdout",
     "output_type": "stream",
     "text": [
      "Loaded the word list!\n",
      "[b'0', b',', b'.', b'of', b'to', b'and', b'in', b'a', b'\"', b\"'s\", b'for', b'-', b'that', b'on', b'is', b'was', b'said', b'with', b'he', b'as']\n",
      "['0', ',', '.', 'of', 'to', 'and', 'in', 'a', '\"', \"'s\", 'for', '-', 'that', 'on', 'is', 'was', 'said', 'with', 'he', 'as']\n",
      "[[  0.00000000e+00   0.00000000e+00   0.00000000e+00   0.00000000e+00\n",
      "    0.00000000e+00   0.00000000e+00   0.00000000e+00   0.00000000e+00\n",
      "    0.00000000e+00   0.00000000e+00   0.00000000e+00   0.00000000e+00\n",
      "    0.00000000e+00   0.00000000e+00   0.00000000e+00   0.00000000e+00\n",
      "    0.00000000e+00   0.00000000e+00   0.00000000e+00   0.00000000e+00\n",
      "    0.00000000e+00   0.00000000e+00   0.00000000e+00   0.00000000e+00\n",
      "    0.00000000e+00   0.00000000e+00   0.00000000e+00   0.00000000e+00\n",
      "    0.00000000e+00   0.00000000e+00   0.00000000e+00   0.00000000e+00\n",
      "    0.00000000e+00   0.00000000e+00   0.00000000e+00   0.00000000e+00\n",
      "    0.00000000e+00   0.00000000e+00   0.00000000e+00   0.00000000e+00\n",
      "    0.00000000e+00   0.00000000e+00   0.00000000e+00   0.00000000e+00\n",
      "    0.00000000e+00   0.00000000e+00   0.00000000e+00   0.00000000e+00\n",
      "    0.00000000e+00   0.00000000e+00]\n",
      " [  1.34410001e-02   2.36819997e-01  -1.68990001e-01   4.09509987e-01\n",
      "    6.38119996e-01   4.77090001e-01  -4.28519994e-01  -5.56410015e-01\n",
      "   -3.63999993e-01  -2.39380002e-01   1.30009994e-01  -6.37340024e-02\n",
      "   -3.95749986e-01  -4.81620014e-01   2.32910007e-01   9.02009979e-02\n",
      "   -1.33239999e-01   7.86390007e-02  -4.16339993e-01  -1.54280007e-01\n",
      "    1.00680001e-01   4.88909990e-01   3.12260002e-01  -1.25200003e-01\n",
      "   -3.75120007e-02  -1.51789999e+00   1.26120001e-01  -2.44200006e-02\n",
      "   -4.29610014e-02  -2.83510000e-01   3.54159999e+00  -1.19560003e-01\n",
      "   -1.45330001e-02  -1.49900004e-01   2.18640000e-01  -3.34120005e-01\n",
      "   -1.38720006e-01   3.18060011e-01   7.03580022e-01   4.48579997e-01\n",
      "   -8.02619979e-02   6.30029976e-01   3.21110010e-01  -4.67649996e-01\n",
      "    2.27860004e-01   3.60339999e-01  -3.78179997e-01  -5.66569984e-01\n",
      "    4.46910001e-02   3.03920001e-01]\n",
      " [  1.51639998e-01   3.01770002e-01  -1.67630002e-01   1.76840007e-01\n",
      "    3.17189991e-01   3.39729995e-01  -4.34780002e-01  -3.10860008e-01\n",
      "   -4.49990004e-01  -2.94860005e-01   1.66079998e-01   1.19630001e-01\n",
      "   -4.13280010e-01  -4.23530012e-01   5.98680019e-01   2.88249999e-01\n",
      "   -1.15470000e-01  -4.18480001e-02  -6.79889977e-01  -2.50629991e-01\n",
      "    1.84719995e-01   8.68759975e-02   4.65820014e-01   1.50349997e-02\n",
      "    4.34739999e-02  -1.46710002e+00  -3.03840011e-01  -2.34409999e-02\n",
      "    3.05889994e-01  -2.17850000e-01   3.74600005e+00   4.22840007e-03\n",
      "   -1.84359998e-01  -4.62089986e-01   9.83290002e-02  -1.19070001e-01\n",
      "    2.39189997e-01   1.16099998e-01   4.17050004e-01   5.67630008e-02\n",
      "   -6.36810000e-05   6.89869970e-02   8.79390016e-02  -1.02849998e-01\n",
      "   -1.39310002e-01   2.23140001e-01  -8.08029994e-02  -3.56519997e-01\n",
      "    1.64129995e-02   1.02159999e-01]\n",
      " [  7.08530009e-01   5.70879996e-01  -4.71599996e-01   1.80480003e-01\n",
      "    5.44489980e-01   7.26029992e-01   1.81569993e-01  -5.23930013e-01\n",
      "    1.03809997e-01  -1.75659999e-01   7.88519979e-02  -3.62159997e-01\n",
      "   -1.18290000e-01  -8.33360016e-01   1.19170003e-01  -1.66050002e-01\n",
      "    6.15549982e-02  -1.27189998e-02  -5.66229999e-01   1.36160003e-02\n",
      "    2.28510007e-01  -1.43959999e-01  -6.75489977e-02  -3.81570011e-01\n",
      "   -2.36980006e-01  -1.70369995e+00  -8.66919994e-01  -2.67040014e-01\n",
      "   -2.58899987e-01   1.76699996e-01   3.86759996e+00  -1.61300004e-01\n",
      "   -1.32730007e-01  -6.88809991e-01   1.84440002e-01   5.24639990e-03\n",
      "   -3.38739991e-01  -7.89560005e-02   2.41850004e-01   3.65759999e-01\n",
      "   -3.47270012e-01   2.84830004e-01   7.56929964e-02  -6.21780008e-02\n",
      "   -3.89880002e-01   2.29020000e-01  -2.16169998e-01  -2.25620002e-01\n",
      "   -9.39180031e-02  -8.03749979e-01]\n",
      " [  6.80469990e-01  -3.92629988e-02   3.01860005e-01  -1.77919999e-01\n",
      "    4.29619998e-01   3.22460011e-02  -4.13760006e-01   1.32280007e-01\n",
      "   -2.98469990e-01  -8.52530003e-02   1.71179995e-01   2.24189997e-01\n",
      "   -1.00460000e-01  -4.36529994e-01   3.34179997e-01   6.78460002e-01\n",
      "    5.72040007e-02  -3.44480008e-01  -4.27850008e-01  -4.32749987e-01\n",
      "    5.59629977e-01   1.00319996e-01   1.86770007e-01  -2.68539995e-01\n",
      "    3.73339988e-02  -2.09319997e+00   2.21709996e-01  -3.98680001e-01\n",
      "    2.09120005e-01  -5.57250023e-01   3.88260007e+00   4.74660009e-01\n",
      "   -9.56579983e-01  -3.77880007e-01   2.08690003e-01  -3.27520013e-01\n",
      "    1.27509996e-01   8.83589983e-02   1.63509995e-01  -2.16340005e-01\n",
      "   -9.43749994e-02   1.83240008e-02   2.10480005e-01  -3.08800004e-02\n",
      "   -1.97219998e-01   8.22789967e-02  -9.43399966e-02  -7.32970014e-02\n",
      "   -6.46990016e-02  -2.60439992e-01]\n",
      " [  2.68180013e-01   1.43460006e-01  -2.78770000e-01   1.62569992e-02\n",
      "    1.13839999e-01   6.99230015e-01  -5.13320029e-01  -4.73679990e-01\n",
      "   -3.30749989e-01  -1.38339996e-01   2.70200014e-01   3.09379995e-01\n",
      "   -4.50120002e-01  -4.12699997e-01  -9.93200019e-02   3.80849987e-02\n",
      "    2.97490004e-02   1.00759998e-01  -2.50580013e-01  -5.18180013e-01\n",
      "    3.45580012e-01   4.49220002e-01   4.87910002e-01  -8.08660015e-02\n",
      "   -1.01209998e-01  -1.37769997e+00  -1.08659998e-01  -2.32010007e-01\n",
      "    1.28389997e-02  -4.65079993e-01   3.84629989e+00   3.13620001e-01\n",
      "    1.36429995e-01  -5.22440016e-01   3.30199987e-01   3.37069988e-01\n",
      "   -3.56009990e-01   3.24310005e-01   1.20410003e-01   3.51200014e-01\n",
      "   -6.90430030e-02   3.68849993e-01   2.51679987e-01  -2.45169997e-01\n",
      "    2.53809988e-01   1.36700004e-01  -3.11780006e-01  -6.32099986e-01\n",
      "   -2.50279993e-01  -3.80970001e-01]\n",
      " [  3.30419987e-01   2.49950007e-01  -6.08739972e-01   1.09229997e-01\n",
      "    3.63719985e-02   1.50999993e-01  -5.50830007e-01  -7.42390007e-02\n",
      "   -9.23070014e-02  -3.28209996e-01   9.59800035e-02  -8.22690010e-01\n",
      "   -3.67170006e-01  -6.70090020e-01   4.29089993e-01   1.64960008e-02\n",
      "   -2.35730007e-01   1.28639996e-01  -1.09529996e+00   4.33340013e-01\n",
      "    5.70670009e-01  -1.03600003e-01   2.04219997e-01   7.83080012e-02\n",
      "   -4.27949995e-01  -1.79840004e+00  -2.78649986e-01   1.19539998e-01\n",
      "   -1.26890004e-01   3.17439996e-02   3.86310005e+00  -1.77860007e-01\n",
      "   -8.24339986e-02  -6.26980007e-01   2.64970005e-01  -5.71850017e-02\n",
      "   -7.35210031e-02   4.61030006e-01   3.08620006e-01   1.24980003e-01\n",
      "   -4.86090004e-01  -8.02719966e-03   3.11840009e-02  -3.65759999e-01\n",
      "   -4.26990002e-01   4.21640009e-01  -1.16659999e-01  -5.07030010e-01\n",
      "   -2.72729993e-02  -5.32850027e-01]\n",
      " [  2.17050001e-01   4.65149999e-01  -4.67570007e-01   1.00819997e-01\n",
      "    1.01349998e+00   7.48449981e-01  -5.31040013e-01  -2.62560010e-01\n",
      "    1.68119997e-01   1.31819993e-01  -2.49090001e-01  -4.41850007e-01\n",
      "   -2.17390001e-01   5.10039985e-01   1.34480000e-01  -4.31410015e-01\n",
      "   -3.12300008e-02   2.06740007e-01  -7.81379998e-01  -2.01480001e-01\n",
      "   -9.74010006e-02   1.60879999e-01  -6.18359983e-01  -1.85039997e-01\n",
      "   -1.24609999e-01  -2.25259995e+00  -2.23210007e-01   5.04299998e-01\n",
      "    3.22569996e-01   1.53129995e-01   3.96359992e+00  -7.13649988e-01\n",
      "   -6.70120001e-01   2.83879995e-01   2.17380002e-01   1.44329995e-01\n",
      "    2.59259999e-01   2.34339997e-01   4.27399993e-01  -4.44510013e-01\n",
      "    1.38129994e-01   3.69729996e-01  -6.42889977e-01   2.41420008e-02\n",
      "   -3.93150002e-02  -2.60369986e-01   1.20169997e-01  -4.37819995e-02\n",
      "    4.10129994e-01   1.79600000e-01]\n",
      " [  2.57690012e-01   4.56290007e-01  -7.69739985e-01  -3.76789987e-01\n",
      "    5.92719972e-01  -6.35270029e-02   2.05449998e-01  -5.73849976e-01\n",
      "   -2.90089995e-01  -1.36620000e-01   3.27280015e-01   1.47189999e+00\n",
      "   -7.36810029e-01  -1.20360002e-01   7.13540018e-01  -4.60979998e-01\n",
      "    6.52480006e-01   4.88869995e-01  -5.15579998e-01   3.99510004e-02\n",
      "   -3.43070000e-01  -1.40869999e-02   8.64880025e-01   3.54600012e-01\n",
      "    7.99899995e-01  -1.49950004e+00  -1.81529999e+00   4.11280006e-01\n",
      "    2.39209995e-01  -4.31389987e-01   3.66230011e+00  -7.98340023e-01\n",
      "   -5.45379996e-01   1.69430003e-01  -8.20169985e-01  -3.46100003e-01\n",
      "    6.94949985e-01  -1.22560000e+00  -1.79920003e-01  -5.74739985e-02\n",
      "    3.04979999e-02  -3.95429999e-01  -3.85149986e-01  -1.00020003e+00\n",
      "    8.75990018e-02  -3.10090005e-01  -3.46769989e-01  -3.14379990e-01\n",
      "    7.50039995e-01   9.70650017e-01]\n",
      " [  2.37269998e-01   4.04780000e-01  -2.05469996e-01   5.88050008e-01\n",
      "    6.55330002e-01   3.28669995e-01  -8.19639981e-01  -2.32360005e-01\n",
      "    2.74280012e-01   2.42650002e-01   5.49920015e-02   1.62959993e-01\n",
      "   -1.25549996e+00  -8.64370018e-02   4.45360005e-01   9.65609998e-02\n",
      "   -1.65189996e-01   5.83779998e-02  -3.85980010e-01   8.69769976e-02\n",
      "    3.38690006e-03   5.50949991e-01  -7.76970029e-01  -6.20959997e-01\n",
      "    9.29479972e-02  -2.56850004e+00  -6.77389979e-01   1.01510003e-01\n",
      "   -4.86429989e-01  -5.78050017e-02   3.18589997e+00  -1.75540000e-02\n",
      "   -1.61379993e-01   5.54860011e-02  -2.58850008e-01  -3.39379996e-01\n",
      "   -1.99279994e-01   2.60490000e-01   1.04780003e-01  -5.59340000e-01\n",
      "   -1.23420000e-01   6.59609973e-01  -5.18019974e-01  -8.29949975e-01\n",
      "   -8.27390030e-02   2.81549990e-01  -4.23000008e-01  -2.73779988e-01\n",
      "   -7.90099986e-03  -3.02310009e-02]\n",
      " [  1.52720004e-01   3.61809999e-01  -2.21680000e-01   6.60509989e-02\n",
      "    1.30290002e-01   3.70750010e-01  -7.58740008e-01  -4.47219998e-01\n",
      "    2.25630000e-01   1.02080002e-01   5.42250015e-02   1.34939998e-01\n",
      "   -4.30519998e-01  -2.13400006e-01   5.61389983e-01  -2.14450002e-01\n",
      "    7.79739991e-02   1.01369999e-01  -5.13059974e-01  -4.02949989e-01\n",
      "    4.06390011e-01   2.33089998e-01   2.06959993e-01  -1.26680002e-01\n",
      "   -5.06340027e-01  -1.71309996e+00   7.71830007e-02  -3.91380012e-01\n",
      "   -1.05939999e-01  -2.37430006e-01   3.95519996e+00   6.65960014e-01\n",
      "   -6.18409991e-01  -3.26799989e-01   3.70209992e-01   2.57640004e-01\n",
      "    3.89770001e-01   2.71210015e-01   4.30239998e-02  -3.43219995e-01\n",
      "    2.03389991e-02   2.14200005e-01   4.40969989e-02   1.40029997e-01\n",
      "   -2.00790003e-01   7.47940019e-02  -3.60760003e-01   4.33820009e-01\n",
      "   -8.46169963e-02   1.21399999e-01]\n",
      " [ -1.67679995e-01   1.21510005e+00   4.95150000e-01   2.68359989e-01\n",
      "   -4.58499998e-01  -2.33109996e-01  -5.28219998e-01  -1.35570002e+00\n",
      "    1.60980001e-01   3.76910001e-01  -9.27020013e-01  -4.39040005e-01\n",
      "   -1.06340003e+00   1.02800000e+00   5.39429998e-03   4.15299982e-02\n",
      "   -1.86379999e-02  -5.54509997e-01   2.61659995e-02   2.80660003e-01\n",
      "   -6.62450016e-01   2.34349996e-01   2.45100006e-01   2.56680008e-02\n",
      "   -1.08690000e+00  -2.84400010e+00  -5.12719989e-01   2.72859991e-01\n",
      "    7.15020020e-03   3.39840017e-02   3.90840006e+00   5.27660012e-01\n",
      "   -6.68990016e-01   1.82379997e+00   4.34359998e-01  -3.00839990e-01\n",
      "   -2.69959986e-01   4.39399987e-01   6.99559987e-01   1.48849994e-01\n",
      "    2.94530001e-02   1.48880005e+00   5.23609996e-01   9.93539989e-02\n",
      "    1.25150001e+00   9.93809998e-02  -7.92609975e-02  -3.08620006e-01\n",
      "    3.08930010e-01   1.10229999e-01]\n",
      " [  8.83870006e-01  -1.41990006e-01   1.35659993e-01   9.86820012e-02\n",
      "    5.12179971e-01   4.91380006e-01  -4.71549988e-01  -3.07419986e-01\n",
      "    1.96300000e-02   1.26859993e-01   7.35239983e-02   3.58359993e-01\n",
      "   -6.08739972e-01  -1.86759993e-01   7.89349973e-01   5.45340002e-01\n",
      "    1.10600002e-01  -2.92299986e-01   5.90410009e-02  -6.95510030e-01\n",
      "   -1.88040003e-01   1.94549993e-01   3.22690010e-01  -4.99810010e-01\n",
      "    3.05999994e-01  -2.39019990e+00  -6.07490003e-01   3.71069998e-01\n",
      "    7.89119974e-02  -2.38959998e-01   3.83899999e+00  -2.03549996e-01\n",
      "   -3.56130004e-01  -6.91850007e-01  -1.74970001e-01  -3.53230000e-01\n",
      "    1.05980001e-01  -3.93030010e-02   1.57009996e-02   3.82790007e-02\n",
      "   -3.52829993e-01   4.48819995e-01  -1.65340006e-01   3.15789998e-01\n",
      "    1.49629995e-01  -7.12770000e-02  -5.35059988e-01   5.27109981e-01\n",
      "   -2.01480001e-01   9.59520042e-03]\n",
      " [  3.00449997e-01   2.50059992e-01  -1.66920006e-01   1.92300007e-01\n",
      "    2.69210003e-02  -7.94859976e-02  -9.13829982e-01  -1.97400004e-01\n",
      "   -5.34130000e-02  -4.08459991e-01  -2.68440008e-01  -2.82119989e-01\n",
      "   -5.00000000e-01   1.22100003e-01   3.90300006e-01   1.77970007e-01\n",
      "   -4.42900002e-01  -4.04780000e-01  -9.50500011e-01  -1.68970004e-01\n",
      "    7.77930021e-01   3.35249990e-01   3.34600002e-01  -1.75400004e-01\n",
      "   -1.20169997e-01  -1.78610003e+00   2.92409986e-01   5.59329987e-01\n",
      "    2.99820006e-02  -3.24169993e-01   3.92969990e+00   1.08800001e-01\n",
      "   -5.73350012e-01  -1.78420007e-01   4.17480012e-03  -1.63090006e-01\n",
      "    4.50769991e-01  -1.61229998e-01  -1.73109993e-01  -8.78890008e-02\n",
      "   -8.90320018e-02   6.20010011e-02  -1.99460000e-01  -3.88630003e-01\n",
      "   -1.82319999e-01   6.07509986e-02   9.86030027e-02  -7.13099986e-02\n",
      "    2.30519995e-01  -5.19389987e-01]\n",
      " [  6.18499994e-01   6.42539978e-01  -4.65519994e-01   3.75699997e-01\n",
      "    7.48380005e-01   5.37389994e-01   2.22390005e-03  -6.05769992e-01\n",
      "    2.64079988e-01   1.17030002e-01   4.37220007e-01   2.00920001e-01\n",
      "   -5.78589998e-02  -3.45889986e-01   2.16639996e-01   5.85730016e-01\n",
      "    5.39189994e-01   6.94899976e-01  -1.56179994e-01   5.58300018e-02\n",
      "   -6.05149984e-01  -2.89970011e-01  -2.55939998e-02   5.55930018e-01\n",
      "    2.53560007e-01  -1.96120000e+00  -5.13809979e-01   6.90959990e-01\n",
      "    6.62460029e-02  -5.42239994e-02   3.78710008e+00  -7.74030030e-01\n",
      "   -1.26890004e-01  -5.14649987e-01   6.67050034e-02  -3.29329997e-01\n",
      "    1.34829998e-01   1.90490007e-01   1.38119996e-01  -2.15030000e-01\n",
      "   -1.65730007e-02   3.12000006e-01  -3.31889987e-01  -2.60010008e-02\n",
      "   -3.82030010e-01   1.94030002e-01  -1.24660000e-01  -2.75570005e-01\n",
      "    3.08990002e-01   4.84970003e-01]\n",
      " [  8.68880004e-02  -1.94159999e-01  -2.42670000e-01  -3.33909988e-01\n",
      "    5.67309976e-01   3.97830009e-01  -9.78089988e-01   3.15899998e-02\n",
      "   -6.14690006e-01  -3.14060003e-01   5.61450005e-01   1.28859997e-01\n",
      "   -8.41929972e-01  -4.69920009e-01   4.70970005e-01   2.30119992e-02\n",
      "   -5.96090019e-01   2.22910002e-01  -1.16139996e+00   3.86500001e-01\n",
      "    6.74119964e-02   4.48830009e-01   1.73940003e-01  -5.35740018e-01\n",
      "    1.79089993e-01  -2.16470003e+00  -1.28270000e-01   2.90360004e-01\n",
      "   -1.50610000e-01   3.52420002e-01   3.12400007e+00  -9.00849998e-01\n",
      "   -2.56699994e-02  -4.17089999e-01   4.05649990e-01  -2.27029994e-01\n",
      "    7.68289983e-01   6.09820008e-01   7.00680017e-02  -1.32709995e-01\n",
      "   -1.20099999e-01   9.61320028e-02  -4.39980000e-01  -4.85309988e-01\n",
      "   -5.18800020e-01  -3.07700008e-01  -7.50280023e-01  -7.69999981e-01\n",
      "    3.94499987e-01  -1.69369996e-01]\n",
      " [  3.89730006e-01  -2.12099999e-01   5.18369973e-01   8.01360011e-01\n",
      "    1.03359997e+00  -2.77839988e-01  -8.45250010e-01  -2.53329992e-01\n",
      "    1.25860006e-01  -9.03419971e-01   2.49750003e-01   2.20220000e-01\n",
      "   -1.20529997e+00  -5.37710011e-01   1.04460001e+00   6.27780020e-01\n",
      "    3.97040009e-01  -1.58120006e-01   3.81020010e-01  -5.46739995e-01\n",
      "   -4.40090001e-01   1.09759998e+00   1.30690001e-02  -8.99710000e-01\n",
      "    4.12259996e-01  -2.23090005e+00   2.89970011e-01   3.21749985e-01\n",
      "   -7.27379978e-01  -9.22439992e-02   3.02800012e+00  -6.25990033e-02\n",
      "    3.83290015e-02   7.29179988e-03  -3.53879988e-01  -9.22559977e-01\n",
      "    9.79320034e-02   1.00680001e-01   1.21159995e+00   8.82330000e-01\n",
      "   -4.62969989e-01   1.31860006e+00   3.27050000e-01  -7.34459996e-01\n",
      "    8.93010020e-01  -4.53240007e-01  -1.26979995e+00   8.61190021e-01\n",
      "    1.41499996e-01   1.20179999e+00]\n",
      " [  2.56159991e-01   4.36940014e-01  -1.18890002e-01   2.03449994e-01\n",
      "    4.19589996e-01   8.58630002e-01  -6.03439987e-01  -3.18349987e-01\n",
      "   -6.71800017e-01   3.98400007e-03  -7.51589984e-02   1.10430002e-01\n",
      "   -7.35339999e-01   2.74360001e-01   5.40149994e-02  -2.38279998e-01\n",
      "   -1.37669995e-01   1.15729999e-02  -4.66230005e-01  -5.52330017e-01\n",
      "    8.33169967e-02   5.59379995e-01   5.19029975e-01  -2.70649999e-01\n",
      "   -2.82110006e-01  -1.39180005e+00   1.74980000e-01   2.65859991e-01\n",
      "    6.14489987e-02  -2.73000002e-01   3.90319991e+00   3.81689996e-01\n",
      "   -5.60089983e-02  -4.42499993e-03   2.40329996e-01   3.06750000e-01\n",
      "   -1.26379997e-01   3.34360003e-01   7.54849985e-02  -3.62179987e-02\n",
      "    1.36910006e-01   3.77620012e-01  -1.21590003e-01  -1.38080001e-01\n",
      "    1.95050001e-01   2.27929994e-01  -1.73040003e-01  -7.57300034e-02\n",
      "   -2.58679986e-01  -3.93390000e-01]\n",
      " [ -2.00920001e-01  -6.02709986e-02  -6.17659986e-01  -8.44399989e-01\n",
      "    5.78100026e-01   1.46709993e-01  -8.60979974e-01   6.70499980e-01\n",
      "   -8.65559995e-01  -1.82339996e-01   1.58559993e-01   4.58139986e-01\n",
      "   -1.01629996e+00  -3.58740002e-01   7.38690019e-01  -2.40480006e-01\n",
      "   -3.38930011e-01   2.57420003e-01  -7.81920016e-01   8.35279971e-02\n",
      "    1.77499995e-01   9.17729974e-01   6.45309985e-01  -1.98960006e-01\n",
      "    3.74159992e-01  -2.75250006e+00  -9.15860012e-02   4.03489992e-02\n",
      "   -6.47919998e-02  -3.14660013e-01   3.39439988e+00   4.49410006e-02\n",
      "   -5.50379992e-01  -6.53339982e-01   1.04359999e-01   1.63940005e-02\n",
      "    2.43880004e-01   1.00849998e+00   3.14119995e-01  -3.38059992e-01\n",
      "   -1.69249997e-01   1.02279998e-01  -6.21429980e-01   1.98290005e-01\n",
      "   -3.61470014e-01  -2.47690007e-01  -3.89889985e-01  -3.33169997e-01\n",
      "   -4.16590013e-02  -1.31710004e-02]\n",
      " [  2.07819998e-01   1.27130002e-01  -3.01880002e-01  -2.31250003e-01\n",
      "    3.01750004e-01   3.31939995e-01  -5.27760029e-01  -4.40420002e-01\n",
      "   -4.83480006e-01   3.50200012e-02   3.47820014e-01   5.45740008e-01\n",
      "   -2.06599995e-01  -8.37130025e-02   2.46199995e-01   1.59309998e-01\n",
      "   -3.13490001e-03   3.24429989e-01  -4.52699989e-01  -2.21780002e-01\n",
      "    2.26520002e-02  -4.17140014e-02   3.18150014e-01   8.86330009e-02\n",
      "   -3.80100012e-02  -1.82120001e+00  -5.09169996e-01  -9.75439996e-02\n",
      "   -8.95299986e-02   5.04759997e-02   3.71799994e+00  -1.65030003e-01\n",
      "   -7.87329972e-02  -5.71009994e-01   2.04180002e-01   1.34110004e-01\n",
      "    7.42809996e-02   8.75020027e-02  -2.54429996e-01  -1.50110006e-01\n",
      "   -1.57680005e-01   3.96059990e-01  -2.36460000e-01  -9.50540006e-02\n",
      "    7.85899982e-02  -1.23049999e-02  -4.98789996e-01  -3.53009999e-01\n",
      "    5.05799986e-02   1.94949992e-02]]\n",
      "Loaded the word vectors!\n"
     ]
    }
   ],
   "source": [
    "'''\n",
    "Word2Ve是google 推出的做词嵌入（word embedding）的开源工具。 简单的说，它在给定的语料库上训练一个模型，然后会输出所有出现在语料库上的单词的向量表示，\n",
    "这个向量称为\"word embedding\"。基于这个向量表示，可以计算词与词之间的关系，例如相似性(同义词等)，\n",
    "语义关联性（中国 - 北京 = 英国 - 伦敦）\n",
    "这里直接导入了一个经由GloVe训练好的词嵌入矩阵\n",
    "\n",
    "训练完成之后，word2vec模型可用来映射每个词到一个向量，可用来表示词对词之间的关系。该向量为神经网络之隐藏层\n",
    "\n",
    "wordList是一个语料库词列表\n",
    "wordVectors才是训练完成的词嵌入矩阵\n",
    "这里将numpy的array转换为list，并将以二进制存储的list解密为ascii，\n",
    "'''\n",
    "import numpy as np\n",
    "wordsList = np.load('wordsList.npy')\n",
    "print('Loaded the word list!')\n",
    "wordsList = wordsList.tolist() #Originally loaded as numpy array\n",
    "# print(wordsList[:20])\n",
    "wordsList = [word.decode('UTF-8') for word in wordsList] #Encode words as UTF-8\n",
    "# print(wordsList[:20])\n",
    "wordVectors = np.load('wordVectors.npy')\n",
    "# print(wordVectors[:20])\n",
    "print ('Loaded the word vectors!')"
   ]
  },
  {
   "cell_type": "markdown",
   "metadata": {},
   "source": [
    "Just to make sure everything has been loaded in correctly, we can look at the dimensions of the vocabulary list and the embedding matrix. "
   ]
  },
  {
   "cell_type": "code",
   "execution_count": 26,
   "metadata": {},
   "outputs": [
    {
     "name": "stdout",
     "output_type": "stream",
     "text": [
      "400000\n",
      "(400000, 50)\n"
     ]
    }
   ],
   "source": [
    "print(len(wordsList))\n",
    "print(wordVectors.shape)"
   ]
  },
  {
   "cell_type": "markdown",
   "metadata": {},
   "source": [
    "We can also search our word list for a word like \"baseball\", and then access its corresponding vector through the embedding matrix."
   ]
  },
  {
   "cell_type": "code",
   "execution_count": 27,
   "metadata": {
    "scrolled": true
   },
   "outputs": [
    {
     "data": {
      "text/plain": [
       "array([-1.93270004,  1.04209995, -0.78514999,  0.91033   ,  0.22711   ,\n",
       "       -0.62158   , -1.64929998,  0.07686   , -0.58679998,  0.058831  ,\n",
       "        0.35628   ,  0.68915999, -0.50598001,  0.70472997,  1.26639998,\n",
       "       -0.40031001, -0.020687  ,  0.80862999, -0.90565997, -0.074054  ,\n",
       "       -0.87674999, -0.62910002, -0.12684999,  0.11524   , -0.55685002,\n",
       "       -1.68260002, -0.26291001,  0.22632   ,  0.713     , -1.08280003,\n",
       "        2.12310004,  0.49869001,  0.066711  , -0.48225999, -0.17896999,\n",
       "        0.47699001,  0.16384   ,  0.16537   , -0.11506   , -0.15962   ,\n",
       "       -0.94926   , -0.42833   , -0.59456998,  1.35660005, -0.27506   ,\n",
       "        0.19918001, -0.36008   ,  0.55667001, -0.70314997,  0.17157   ], dtype=float32)"
      ]
     },
     "execution_count": 27,
     "metadata": {},
     "output_type": "execute_result"
    }
   ],
   "source": [
    "baseballIndex = wordsList.index('baseball')\n",
    "wordVectors[baseballIndex]"
   ]
  },
  {
   "cell_type": "markdown",
   "metadata": {},
   "source": [
    "Now that we have our vectors, our first step is taking an input sentence and then constructing the its vector representation. Let's say that we have the input sentence \"I thought the movie was incredible and inspiring\". In order to get the word vectors, we can use Tensorflow's embedding lookup function. This function takes in two arguments, one for the embedding matrix (the wordVectors matrix in our case), and one for the ids of each of the words. The ids vector can be thought of as the integerized representation of the training set. This is basically just the row index of each of the words. Let's look at a quick example to make this concrete. "
   ]
  },
  {
   "cell_type": "code",
   "execution_count": 4,
   "metadata": {},
   "outputs": [
    {
     "name": "stdout",
     "output_type": "stream",
     "text": [
      "(10,)\n",
      "[    41    804 201534   1005     15   7446      5  13767      0      0]\n"
     ]
    }
   ],
   "source": [
    "'''\n",
    "这里每个词向量的维度为什么设置为300？语料库的维度不过才50'''\n",
    "import tensorflow as tf\n",
    "maxSeqLength = 10 #Maximum length of sentence\n",
    "numDimensions = 300 #Dimensions for each word vector\n",
    "firstSentence = np.zeros((maxSeqLength), dtype='int32')\n",
    "firstSentence[0] = wordsList.index(\"i\")\n",
    "firstSentence[1] = wordsList.index(\"thought\")\n",
    "firstSentence[2] = wordsList.index(\"the\")\n",
    "firstSentence[3] = wordsList.index(\"movie\")\n",
    "firstSentence[4] = wordsList.index(\"was\")\n",
    "firstSentence[5] = wordsList.index(\"incredible\")\n",
    "firstSentence[6] = wordsList.index(\"and\")\n",
    "firstSentence[7] = wordsList.index(\"inspiring\")\n",
    "#firstSentence[8] and firstSentence[9] are going to be 0\n",
    "print(firstSentence.shape)\n",
    "print(firstSentence) #Shows the row index for each word"
   ]
  },
  {
   "cell_type": "markdown",
   "metadata": {},
   "source": [
    "The data pipeline can be illustrated below."
   ]
  },
  {
   "cell_type": "markdown",
   "metadata": {},
   "source": [
    "![caption](Images/SentimentAnalysis5.png)"
   ]
  },
  {
   "cell_type": "markdown",
   "metadata": {},
   "source": [
    "The 10 x 50 output should contain the 50 dimensional word vectors for each of the 10 words in the sequence. "
   ]
  },
  {
   "cell_type": "code",
   "execution_count": 8,
   "metadata": {
    "scrolled": true
   },
   "outputs": [
    {
     "name": "stdout",
     "output_type": "stream",
     "text": [
      "[[  1.18910000e-01   1.52549997e-01  -8.20730031e-02  -7.41439998e-01\n",
      "    7.59169996e-01  -4.83280003e-01  -3.10090005e-01   5.14760017e-01\n",
      "   -9.87079978e-01   6.17570011e-04  -1.50429994e-01   8.37700009e-01\n",
      "   -1.07969999e+00  -5.14599979e-01   1.31879997e+00   6.20069981e-01\n",
      "    1.37789994e-01   4.71080005e-01  -7.28740022e-02  -7.26750016e-01\n",
      "   -7.41159976e-01   7.52629995e-01   8.81799996e-01   2.95610011e-01\n",
      "    1.35479999e+00  -2.57010007e+00  -1.35230005e+00   4.58799988e-01\n",
      "    1.00680006e+00  -1.18560004e+00   3.47370005e+00   7.78980017e-01\n",
      "   -7.29290009e-01   2.51020014e-01  -2.61559993e-01  -3.46839994e-01\n",
      "    5.58409989e-01   7.50980020e-01   4.98299986e-01  -2.68229991e-01\n",
      "   -2.74430006e-03  -1.82980001e-02  -2.80959994e-01   5.53179979e-01\n",
      "    3.77059989e-02   1.85550004e-01  -1.50250003e-01  -5.75119972e-01\n",
      "   -2.66710013e-01   9.21209991e-01]\n",
      " [  4.27619994e-01  -1.14689998e-01   1.05060004e-02  -5.46620011e-01\n",
      "    8.90550017e-01   1.92629993e-01  -6.53739989e-01   8.74610022e-02\n",
      "   -6.98300004e-01   2.80200005e-01   1.71759993e-01   3.18859994e-01\n",
      "   -4.62529987e-01  -1.34140000e-01   6.20700002e-01   3.36030006e-01\n",
      "    4.77930009e-01  -4.68610004e-02  -4.51790005e-01  -3.27650011e-01\n",
      "   -7.30170012e-01   4.14490014e-01   5.67830026e-01   3.80100012e-02\n",
      "    1.01400006e+00  -1.88499999e+00  -9.44019973e-01   6.50020018e-02\n",
      "    5.49920022e-01  -4.69390005e-01   2.72340012e+00  -1.40709996e-01\n",
      "   -7.80159980e-02  -8.14239979e-01  -6.64139986e-02  -4.23359990e-01\n",
      "    7.89779983e-03   4.07579988e-01   2.12449998e-01   1.01499997e-01\n",
      "   -3.72049987e-01   1.81990005e-02  -8.11730027e-02   7.69240022e-01\n",
      "    3.03669989e-01   5.12220003e-02  -2.38560006e-01  -3.45349982e-02\n",
      "   -4.12670001e-02   2.59400010e-01]\n",
      " [  4.18000013e-01   2.49679998e-01  -4.12420005e-01   1.21699996e-01\n",
      "    3.45270008e-01  -4.44569997e-02  -4.96879995e-01  -1.78619996e-01\n",
      "   -6.60229998e-04  -6.56599998e-01   2.78430015e-01  -1.47670001e-01\n",
      "   -5.56770027e-01   1.46579996e-01  -9.50950012e-03   1.16579998e-02\n",
      "    1.02040000e-01  -1.27920002e-01  -8.44299972e-01  -1.21809997e-01\n",
      "   -1.68009996e-02  -3.32789987e-01  -1.55200005e-01  -2.31309995e-01\n",
      "   -1.91809997e-01  -1.88230002e+00  -7.67459989e-01   9.90509987e-02\n",
      "   -4.21249986e-01  -1.95260003e-01   4.00710011e+00  -1.85939997e-01\n",
      "   -5.22870004e-01  -3.16810012e-01   5.92130003e-04   7.44489999e-03\n",
      "    1.77780002e-01  -1.58969998e-01   1.20409997e-02  -5.42230010e-02\n",
      "   -2.98709989e-01  -1.57490000e-01  -3.47579986e-01  -4.56370004e-02\n",
      "   -4.42510009e-01   1.87849998e-01   2.78489990e-03  -1.84110001e-01\n",
      "   -1.15139998e-01  -7.85809994e-01]\n",
      " [  3.08239996e-01   1.72230005e-01  -2.33390003e-01   2.31049992e-02\n",
      "    2.85219997e-01   2.30759993e-01  -4.10479993e-01  -1.00349998e+00\n",
      "   -2.07200006e-01   1.43270004e+00  -8.06840003e-01   6.89540029e-01\n",
      "   -4.36479986e-01   1.10689998e+00   1.61070001e+00  -3.19660008e-01\n",
      "    4.77440000e-01   7.93950021e-01  -8.43739986e-01   6.45089969e-02\n",
      "    9.02509987e-01   7.86090016e-01   2.96990007e-01   7.60569990e-01\n",
      "    4.32999998e-01  -1.50320005e+00  -1.64230001e+00   3.02560002e-01\n",
      "    3.07709992e-01  -8.70570004e-01   2.47819996e+00  -2.58520003e-02\n",
      "    5.01299977e-01  -3.85930002e-01  -1.56330004e-01   4.55220014e-01\n",
      "    4.90100011e-02  -4.25989985e-01  -8.64019990e-01  -1.30760002e+00\n",
      "   -2.95760006e-01   1.20899999e+00  -3.12700003e-01  -7.24619985e-01\n",
      "   -8.08009982e-01   8.26670006e-02   2.67379999e-01  -9.81769979e-01\n",
      "   -3.21469992e-01   9.98229980e-01]\n",
      " [  8.68880004e-02  -1.94159999e-01  -2.42670000e-01  -3.33909988e-01\n",
      "    5.67309976e-01   3.97830009e-01  -9.78089988e-01   3.15899998e-02\n",
      "   -6.14690006e-01  -3.14060003e-01   5.61450005e-01   1.28859997e-01\n",
      "   -8.41929972e-01  -4.69920009e-01   4.70970005e-01   2.30119992e-02\n",
      "   -5.96090019e-01   2.22910002e-01  -1.16139996e+00   3.86500001e-01\n",
      "    6.74119964e-02   4.48830009e-01   1.73940003e-01  -5.35740018e-01\n",
      "    1.79089993e-01  -2.16470003e+00  -1.28270000e-01   2.90360004e-01\n",
      "   -1.50610000e-01   3.52420002e-01   3.12400007e+00  -9.00849998e-01\n",
      "   -2.56699994e-02  -4.17089999e-01   4.05649990e-01  -2.27029994e-01\n",
      "    7.68289983e-01   6.09820008e-01   7.00680017e-02  -1.32709995e-01\n",
      "   -1.20099999e-01   9.61320028e-02  -4.39980000e-01  -4.85309988e-01\n",
      "   -5.18800020e-01  -3.07700008e-01  -7.50280023e-01  -7.69999981e-01\n",
      "    3.94499987e-01  -1.69369996e-01]\n",
      " [ -1.46890000e-01   5.42320013e-01  -1.13749998e-02   2.91619986e-01\n",
      "    7.99099982e-01  -6.10870011e-02   4.41890001e-01   1.89099997e-01\n",
      "    5.48860013e-01   1.19319999e+00  -2.67710000e-01   6.40079975e-02\n",
      "   -6.95190012e-01  -5.17870009e-01   6.71750009e-01  -7.05089986e-01\n",
      "    5.16420007e-01   5.40560007e-01  -7.94399977e-01  -8.01880002e-01\n",
      "   -4.85480011e-01   7.92169988e-01  -2.15820000e-01  -1.04159999e+00\n",
      "    1.25460005e+00  -2.75790006e-01  -1.42429996e+00  -6.23399988e-02\n",
      "    1.23049998e+00   6.64360002e-02   1.73580003e+00   8.83210003e-01\n",
      "    4.92139995e-01  -3.44069988e-01  -2.88219988e-01   4.34350014e-01\n",
      "   -2.44369999e-01   2.87339985e-01   2.02810001e-02  -5.60869992e-01\n",
      "   -1.89400002e-01  -2.62219995e-01  -4.76130009e-01   1.48259997e-01\n",
      "   -4.27789986e-01   1.02519996e-01   2.26170003e-01   1.46009997e-01\n",
      "   -5.07390015e-02   3.62549990e-01]\n",
      " [  2.68180013e-01   1.43460006e-01  -2.78770000e-01   1.62569992e-02\n",
      "    1.13839999e-01   6.99230015e-01  -5.13320029e-01  -4.73679990e-01\n",
      "   -3.30749989e-01  -1.38339996e-01   2.70200014e-01   3.09379995e-01\n",
      "   -4.50120002e-01  -4.12699997e-01  -9.93200019e-02   3.80849987e-02\n",
      "    2.97490004e-02   1.00759998e-01  -2.50580013e-01  -5.18180013e-01\n",
      "    3.45580012e-01   4.49220002e-01   4.87910002e-01  -8.08660015e-02\n",
      "   -1.01209998e-01  -1.37769997e+00  -1.08659998e-01  -2.32010007e-01\n",
      "    1.28389997e-02  -4.65079993e-01   3.84629989e+00   3.13620001e-01\n",
      "    1.36429995e-01  -5.22440016e-01   3.30199987e-01   3.37069988e-01\n",
      "   -3.56009990e-01   3.24310005e-01   1.20410003e-01   3.51200014e-01\n",
      "   -6.90430030e-02   3.68849993e-01   2.51679987e-01  -2.45169997e-01\n",
      "    2.53809988e-01   1.36700004e-01  -3.11780006e-01  -6.32099986e-01\n",
      "   -2.50279993e-01  -3.80970001e-01]\n",
      " [  1.96459994e-01   5.19469976e-01  -1.77900001e-01  -6.19279981e-01\n",
      "    5.78279972e-01  -7.79249966e-02   1.32939994e-01  -1.72889993e-01\n",
      "   -3.37769985e-01   1.46720004e+00  -7.98169971e-01  -1.95099995e-01\n",
      "   -1.07220002e-01   2.14600004e-03  -1.23369999e-01  -9.35559988e-01\n",
      "    5.28039992e-01   4.28770006e-01   4.52480018e-02  -1.13679998e-01\n",
      "   -2.46360004e-01   7.15799987e-01  -3.42350006e-01  -2.86529996e-02\n",
      "    1.31130004e+00  -3.87199998e-01  -1.08360004e+00  -3.14020008e-01\n",
      "    3.90469998e-01   1.49020001e-01   1.12290001e+00   6.49829984e-01\n",
      "    2.41150007e-01  -9.01579976e-01  -2.81590015e-01   2.67500013e-01\n",
      "   -3.68809998e-01   3.27910006e-01  -9.54190016e-01  -4.06549990e-01\n",
      "   -9.79469996e-03  -2.62109995e-01  -4.39779997e-01  -6.72369972e-02\n",
      "    5.13580024e-01   5.98349988e-01  -9.83439982e-02   2.17409998e-01\n",
      "    3.71440016e-02   1.25210002e-01]\n",
      " [  0.00000000e+00   0.00000000e+00   0.00000000e+00   0.00000000e+00\n",
      "    0.00000000e+00   0.00000000e+00   0.00000000e+00   0.00000000e+00\n",
      "    0.00000000e+00   0.00000000e+00   0.00000000e+00   0.00000000e+00\n",
      "    0.00000000e+00   0.00000000e+00   0.00000000e+00   0.00000000e+00\n",
      "    0.00000000e+00   0.00000000e+00   0.00000000e+00   0.00000000e+00\n",
      "    0.00000000e+00   0.00000000e+00   0.00000000e+00   0.00000000e+00\n",
      "    0.00000000e+00   0.00000000e+00   0.00000000e+00   0.00000000e+00\n",
      "    0.00000000e+00   0.00000000e+00   0.00000000e+00   0.00000000e+00\n",
      "    0.00000000e+00   0.00000000e+00   0.00000000e+00   0.00000000e+00\n",
      "    0.00000000e+00   0.00000000e+00   0.00000000e+00   0.00000000e+00\n",
      "    0.00000000e+00   0.00000000e+00   0.00000000e+00   0.00000000e+00\n",
      "    0.00000000e+00   0.00000000e+00   0.00000000e+00   0.00000000e+00\n",
      "    0.00000000e+00   0.00000000e+00]\n",
      " [  0.00000000e+00   0.00000000e+00   0.00000000e+00   0.00000000e+00\n",
      "    0.00000000e+00   0.00000000e+00   0.00000000e+00   0.00000000e+00\n",
      "    0.00000000e+00   0.00000000e+00   0.00000000e+00   0.00000000e+00\n",
      "    0.00000000e+00   0.00000000e+00   0.00000000e+00   0.00000000e+00\n",
      "    0.00000000e+00   0.00000000e+00   0.00000000e+00   0.00000000e+00\n",
      "    0.00000000e+00   0.00000000e+00   0.00000000e+00   0.00000000e+00\n",
      "    0.00000000e+00   0.00000000e+00   0.00000000e+00   0.00000000e+00\n",
      "    0.00000000e+00   0.00000000e+00   0.00000000e+00   0.00000000e+00\n",
      "    0.00000000e+00   0.00000000e+00   0.00000000e+00   0.00000000e+00\n",
      "    0.00000000e+00   0.00000000e+00   0.00000000e+00   0.00000000e+00\n",
      "    0.00000000e+00   0.00000000e+00   0.00000000e+00   0.00000000e+00\n",
      "    0.00000000e+00   0.00000000e+00   0.00000000e+00   0.00000000e+00\n",
      "    0.00000000e+00   0.00000000e+00]]\n"
     ]
    }
   ],
   "source": [
    "'''\n",
    "tf.nn.embedding_lookup()\n",
    "选取一个张量里面索引对应的元素, wordVectors是输入张量, firstSentence是对应的索引\n",
    "\n",
    "输出的结果是Tensor\n",
    "tensorflow 中使用它来表示数据。可以看做多维数组或者list。\n",
    "\n",
    "标量是张量，向量是张量，矩阵是张量，矩阵的矩阵是张量\n",
    "\n",
    "eval() 将Tensor的string变成算术表达式来执行\n",
    "'''\n",
    "with tf.Session() as sess:\n",
    "#     print(tf.nn.embedding_lookup(wordVectors,firstSentence).eval().shape)\n",
    "    print(tf.nn.embedding_lookup(wordVectors,firstSentence).eval())"
   ]
  },
  {
   "cell_type": "markdown",
   "metadata": {},
   "source": [
    "Before creating the ids matrix for the whole training set, let’s first take some time to visualize the type of data that we have. This will help us determine the best value for setting our maximum sequence length. In the previous example, we used a max length of 10, but this value is largely dependent on the inputs you have.  "
   ]
  },
  {
   "cell_type": "markdown",
   "metadata": {},
   "source": [
    "The training set we're going to use is the Imdb movie review dataset. This set has 25,000 movie reviews, with 12,500 positive reviews and 12,500 negative reviews. Each of the reviews is stored in a txt file that we need to parse through. The positive reviews are stored in one directory and the negative reviews are stored in another. The following piece of code will determine total and average number of words in each review. "
   ]
  },
  {
   "cell_type": "code",
   "execution_count": 9,
   "metadata": {
    "scrolled": true
   },
   "outputs": [
    {
     "name": "stdout",
     "output_type": "stream",
     "text": [
      "Positive files finished\n",
      "Negative files finished\n",
      "The total number of files is 25000\n",
      "The total number of words in the files is 5844680\n",
      "The average number of words in the files is 233.7872\n"
     ]
    }
   ],
   "source": [
    "from os import listdir\n",
    "from os.path import isfile, join\n",
    "positiveFiles = ['positiveReviews/' + f for f in listdir('positiveReviews/') if isfile(join('positiveReviews/', f))]\n",
    "negativeFiles = ['negativeReviews/' + f for f in listdir('negativeReviews/') if isfile(join('negativeReviews/', f))]\n",
    "numWords = []\n",
    "for pf in positiveFiles:\n",
    "    with open(pf, \"r\", encoding='utf-8') as f:\n",
    "        line=f.readline()\n",
    "        counter = len(line.split())\n",
    "        numWords.append(counter)       \n",
    "print('Positive files finished')\n",
    "\n",
    "for nf in negativeFiles:\n",
    "    with open(nf, \"r\", encoding='utf-8') as f:\n",
    "        line=f.readline()\n",
    "        counter = len(line.split())\n",
    "        numWords.append(counter)  \n",
    "print('Negative files finished')\n",
    "\n",
    "numFiles = len(numWords)\n",
    "print('The total number of files is', numFiles)\n",
    "print('The total number of words in the files is', sum(numWords))\n",
    "print('The average number of words in the files is', sum(numWords)/len(numWords))"
   ]
  },
  {
   "cell_type": "markdown",
   "metadata": {},
   "source": [
    "We can also use the Matplot library to visualize this data in a histogram format. "
   ]
  },
  {
   "cell_type": "code",
   "execution_count": 10,
   "metadata": {},
   "outputs": [
    {
     "data": {
      "image/png": "[encoded data removed]",
      "text/plain": [
       "<matplotlib.figure.Figure at 0x7f9a3cc30c50>"
      ]
     },
     "metadata": {},
     "output_type": "display_data"
    }
   ],
   "source": [
    "import matplotlib.pyplot as plt\n",
    "%matplotlib inline\n",
    "plt.hist(numWords, 50)\n",
    "plt.xlabel('Sequence Length')\n",
    "plt.ylabel('Frequency')\n",
    "plt.axis([0, 1200, 0, 8000])\n",
    "plt.show()"
   ]
  },
  {
   "cell_type": "markdown",
   "metadata": {},
   "source": [
    "From the histogram as well as the average number of words per file, we can safely say that most reviews will fall under 250 words, which is the max sequence length value we will set. "
   ]
  },
  {
   "cell_type": "code",
   "execution_count": 11,
   "metadata": {
    "collapsed": true
   },
   "outputs": [],
   "source": [
    "maxSeqLength = 250"
   ]
  },
  {
   "cell_type": "markdown",
   "metadata": {},
   "source": [
    "Let's see how we can take a single file and transform it into our ids matrix. This is what one of the reviews looks like in text file format."
   ]
  },
  {
   "cell_type": "code",
   "execution_count": 12,
   "metadata": {},
   "outputs": [
    {
     "name": "stdout",
     "output_type": "stream",
     "text": [
      "This is easily the most underrated film inn the Brooks cannon. Sure, its flawed. It does not give a realistic view of homelessness (unlike, say, how Citizen Kane gave a realistic view of lounge singers, or Titanic gave a realistic view of Italians YOU IDIOTS). Many of the jokes fall flat. But still, this film is very lovable in a way many comedies are not, and to pull that off in a story about some of the most traditionally reviled members of society is truly impressive. Its not The Fisher King, but its not crap, either. My only complaint is that Brooks should have cast someone else in the lead (I love Mel as a Director and Writer, not so much as a lead).\n"
     ]
    }
   ],
   "source": [
    "fname = positiveFiles[3] #Can use any valid index (not just 3)\n",
    "with open(fname) as f:\n",
    "    for lines in f:\n",
    "        print(lines)\n",
    "        exit"
   ]
  },
  {
   "cell_type": "markdown",
   "metadata": {},
   "source": [
    "Now, let's convert to to an ids matrix"
   ]
  },
  {
   "cell_type": "code",
   "execution_count": 13,
   "metadata": {
    "collapsed": true
   },
   "outputs": [],
   "source": [
    "# Removes punctuation, parentheses, question marks, etc., and leaves only alphanumeric characters\n",
    "import re\n",
    "strip_special_chars = re.compile(\"[^A-Za-z0-9 ]+\")\n",
    "\n",
    "def cleanSentences(string):\n",
    "    string = string.lower().replace(\"<br />\", \" \")\n",
    "    return re.sub(strip_special_chars, \"\", string.lower())"
   ]
  },
  {
   "cell_type": "code",
   "execution_count": 35,
   "metadata": {},
   "outputs": [
    {
     "data": {
      "text/plain": [
       "array([    37,     14,   2407, 201534,     96,  37314,    319,   7158,\n",
       "       201534,   6469,   8828,   1085,     47,   9703,     20,    260,\n",
       "           36,    455,      7,   7284,   1139,      3,  26494,   2633,\n",
       "          203,    197,   3941,  12739,    646,      7,   7284,   1139,\n",
       "            3,  11990,   7792,     46,  12608,    646,      7,   7284,\n",
       "         1139,      3,   8593,     81,  36381,    109,      3, 201534,\n",
       "         8735,    807,   2983,     34,    149,     37,    319,     14,\n",
       "          191,  31906,      6,      7,    179,    109,  15402,     32,\n",
       "           36,      5,      4,   2933,     12,    138,      6,      7,\n",
       "          523,     59,     77,      3, 201534,     96,   4246,  30006,\n",
       "          235,      3,    908,     14,   4702,   4571,     47,     36,\n",
       "       201534,   6429,    691,     34,     47,     36,  35404,    900,\n",
       "          192,     91,   4499,     14,     12,   6469,    189,     33,\n",
       "         1784,   1318,   1726,      6, 201534,    410,     41,    835,\n",
       "        10464,     19,      7,    369,      5,   1541,     36,    100,\n",
       "          181,     19,      7,    410,      0,      0,      0,      0,\n",
       "            0,      0,      0,      0,      0,      0,      0,      0,\n",
       "            0,      0,      0,      0,      0,      0,      0,      0,\n",
       "            0,      0,      0,      0,      0,      0,      0,      0,\n",
       "            0,      0,      0,      0,      0,      0,      0,      0,\n",
       "            0,      0,      0,      0,      0,      0,      0,      0,\n",
       "            0,      0,      0,      0,      0,      0,      0,      0,\n",
       "            0,      0,      0,      0,      0,      0,      0,      0,\n",
       "            0,      0,      0,      0,      0,      0,      0,      0,\n",
       "            0,      0,      0,      0,      0,      0,      0,      0,\n",
       "            0,      0,      0,      0,      0,      0,      0,      0,\n",
       "            0,      0,      0,      0,      0,      0,      0,      0,\n",
       "            0,      0,      0,      0,      0,      0,      0,      0,\n",
       "            0,      0,      0,      0,      0,      0,      0,      0,\n",
       "            0,      0,      0,      0,      0,      0,      0,      0,\n",
       "            0,      0,      0,      0,      0,      0,      0,      0,\n",
       "            0,      0], dtype=int32)"
      ]
     },
     "execution_count": 35,
     "metadata": {},
     "output_type": "execute_result"
    }
   ],
   "source": [
    "'''\n",
    "用numpy array存储这个sentence中各单词在wordList对应的位置\n",
    "'''\n",
    "firstFile = np.zeros((maxSeqLength), dtype='int32')\n",
    "with open(fname) as f:\n",
    "    indexCounter = 0\n",
    "    line=f.readline()\n",
    "    cleanedLine = cleanSentences(line)\n",
    "    split = cleanedLine.split()\n",
    "    for word in split:\n",
    "        if indexCounter < maxSeqLength:\n",
    "            try:\n",
    "                firstFile[indexCounter] = wordsList.index(word)\n",
    "            except ValueError:\n",
    "                firstFile[indexCounter] = 399999 #Vector for unknown words\n",
    "        indexCounter = indexCounter + 1\n",
    "firstFile"
   ]
  },
  {
   "cell_type": "markdown",
   "metadata": {},
   "source": [
    "Now, let's do the same for each of our 25,000 reviews. We'll load in the movie training set and integerize it to get a 25000 x 250 matrix. This was a computationally expensive process, so instead of having you run the whole piece, we’re going to load in a pre-computed IDs matrix."
   ]
  },
  {
   "cell_type": "code",
   "execution_count": 36,
   "metadata": {
    "collapsed": true
   },
   "outputs": [],
   "source": [
    "# ids = np.zeros((numFiles, maxSeqLength), dtype='int32')\n",
    "# fileCounter = 0\n",
    "# for pf in positiveFiles:\n",
    "#    with open(pf, \"r\") as f:\n",
    "#        indexCounter = 0\n",
    "#        line=f.readline()\n",
    "#        cleanedLine = cleanSentences(line)\n",
    "#        split = cleanedLine.split()\n",
    "#        for word in split:\n",
    "#            try:\n",
    "#                ids[fileCounter][indexCounter] = wordsList.index(word)\n",
    "#            except ValueError:\n",
    "#                ids[fileCounter][indexCounter] = 399999 #Vector for unkown words\n",
    "#            indexCounter = indexCounter + 1\n",
    "#            if indexCounter >= maxSeqLength:\n",
    "#                break\n",
    "#        fileCounter = fileCounter + 1 \n",
    "\n",
    "# for nf in negativeFiles:\n",
    "#    with open(nf, \"r\") as f:\n",
    "#        indexCounter = 0\n",
    "#        line=f.readline()\n",
    "#        cleanedLine = cleanSentences(line)\n",
    "#        split = cleanedLine.split()\n",
    "#        for word in split:\n",
    "#            try:\n",
    "#                ids[fileCounter][indexCounter] = wordsList.index(word)\n",
    "#            except ValueError:\n",
    "#                ids[fileCounter][indexCounter] = 399999 #Vector for unkown words\n",
    "#            indexCounter = indexCounter + 1\n",
    "#            if indexCounter >= maxSeqLength:\n",
    "#                break\n",
    "#        fileCounter = fileCounter + 1 \n",
    "# #Pass into embedding function and see if it evaluates. \n",
    "\n",
    "# np.save('idsMatrix', ids)"
   ]
  },
  {
   "cell_type": "code",
   "execution_count": 37,
   "metadata": {
    "collapsed": true
   },
   "outputs": [],
   "source": [
    "'''\n",
    "这里是导入完的各句子WordList矩阵，25000*250\n",
    "'''\n",
    "ids = np.load('idsMatrix.npy')"
   ]
  },
  {
   "cell_type": "markdown",
   "metadata": {},
   "source": [
    "# Helper Functions"
   ]
  },
  {
   "cell_type": "markdown",
   "metadata": {},
   "source": [
    "Below you can find a couple of helper functions that will be useful when training the network in a later step. "
   ]
  },
  {
   "cell_type": "code",
   "execution_count": 38,
   "metadata": {
    "collapsed": true
   },
   "outputs": [],
   "source": [
    "from random import randint\n",
    "\n",
    "def getTrainBatch():\n",
    "    labels = []\n",
    "    arr = np.zeros([batchSize, maxSeqLength])\n",
    "    for i in range(batchSize):\n",
    "        if (i % 2 == 0): \n",
    "            num = randint(1,11499)\n",
    "            labels.append([1,0])\n",
    "        else:\n",
    "            num = randint(13499,24999)\n",
    "            labels.append([0,1])\n",
    "        arr[i] = ids[num-1:num]\n",
    "    return arr, labels\n",
    "\n",
    "def getTestBatch():\n",
    "    labels = []\n",
    "    arr = np.zeros([batchSize, maxSeqLength])\n",
    "    for i in range(batchSize):\n",
    "        num = randint(11499,13499)\n",
    "        if (num <= 12499):\n",
    "            labels.append([1,0])\n",
    "        else:\n",
    "            labels.append([0,1])\n",
    "        arr[i] = ids[num-1:num]\n",
    "    return arr, labels"
   ]
  },
  {
   "cell_type": "markdown",
   "metadata": {},
   "source": [
    "# RNN Model"
   ]
  },
  {
   "cell_type": "markdown",
   "metadata": {},
   "source": [
    "Now, we’re ready to start creating our Tensorflow graph. We’ll first need to define some hyperparameters, such as batch size, number of LSTM units, number of output classes, and number of training iterations. "
   ]
  },
  {
   "cell_type": "code",
   "execution_count": 14,
   "metadata": {
    "collapsed": true
   },
   "outputs": [],
   "source": [
    "batchSize = 24\n",
    "lstmUnits = 64\n",
    "numClasses = 2\n",
    "iterations = 100000"
   ]
  },
  {
   "cell_type": "markdown",
   "metadata": {},
   "source": [
    "As with most Tensorflow graphs, we’ll now need to specify two placeholders, one for the inputs into the network, and one for the labels. The most important part about defining these placeholders is understanding each of their dimensionalities. "
   ]
  },
  {
   "cell_type": "markdown",
   "metadata": {},
   "source": [
    "The labels placeholder represents a set of values, each either [1, 0] or [0, 1], depending on whether each training example is positive or negative. Each row in the integerized input placeholder represents the integerized representation of each training example that we include in our batch."
   ]
  },
  {
   "cell_type": "markdown",
   "metadata": {},
   "source": [
    "![caption](Images/SentimentAnalysis12.png)"
   ]
  },
  {
   "cell_type": "code",
   "execution_count": 15,
   "metadata": {
    "collapsed": true
   },
   "outputs": [],
   "source": [
    "'''\n",
    "tf.reset_default_graph()\n",
    "清除默认图的堆栈，并设置全局图为默认图\n",
    "\n",
    "tf.placeholder\n",
    "插入一个总是需要放入数据的张量的占位符。 \n",
    "'''\n",
    "\n",
    "import tensorflow as tf\n",
    "tf.reset_default_graph()\n",
    "\n",
    "labels = tf.placeholder(tf.float32, [batchSize, numClasses])\n",
    "input_data = tf.placeholder(tf.int32, [batchSize, maxSeqLength])"
   ]
  },
  {
   "cell_type": "markdown",
   "metadata": {},
   "source": [
    "Once we have our input data placeholder, we’re going to call the tf.nn.lookup() function in order to get our word vectors. The call to that function will return a 3-D Tensor of dimensionality batch size by max sequence length by word vector dimensions. In order to visualize this 3-D tensor, you can simply think of each data point in the integerized input tensor as the corresponding D dimensional vector that it refers to. \n"
   ]
  },
  {
   "cell_type": "markdown",
   "metadata": {},
   "source": [
    "![caption](Images/SentimentAnalysis13.png)"
   ]
  },
  {
   "cell_type": "code",
   "execution_count": 21,
   "metadata": {
    "collapsed": true
   },
   "outputs": [],
   "source": [
    "'''\n",
    "在 Tensorflow 中，定义了某字符串是变量，它才是变量，这一点是与 Python 所不同的。\n",
    "这里将data计算成对应的词嵌入矩阵\n",
    "'''\n",
    "data = tf.Variable(tf.zeros([batchSize, maxSeqLength, numDimensions]),dtype=tf.float32)\n",
    "data = tf.nn.embedding_lookup(wordVectors,input_data)"
   ]
  },
  {
   "cell_type": "markdown",
   "metadata": {},
   "source": [
    "Now that we have the data in the format that we want, let’s look at how we can feed this input into an LSTM network. We’re going to call the tf.nn.rnn_cell.BasicLSTMCell function. This function takes in an integer for the number of LSTM units that we want. This is one of the hyperparameters that will take some tuning to figure out the optimal value. We’ll then wrap that LSTM cell in a dropout layer to help prevent the network from overfitting. "
   ]
  },
  {
   "cell_type": "markdown",
   "metadata": {},
   "source": [
    "Finally, we’ll feed both the LSTM cell and the 3-D tensor full of input data into a function called tf.nn.dynamic_rnn. This function is in charge of unrolling the whole network and creating a pathway for the data to flow through the RNN graph."
   ]
  },
  {
   "cell_type": "code",
   "execution_count": 22,
   "metadata": {},
   "outputs": [
    {
     "ename": "ValueError",
     "evalue": "Attempt to have a second RNNCell use the weights of a variable scope that already has weights: 'rnn/basic_lstm_cell'; and the cell was not constructed as BasicLSTMCell(..., reuse=True).  To share the weights of an RNNCell, simply reuse it in your second calculation, or create a new one with the argument reuse=True.",
     "output_type": "error",
     "traceback": [
      "\u001b[0;31m---------------------------------------------------------------------------\u001b[0m",
      "\u001b[0;31mValueError\u001b[0m                                Traceback (most recent call last)",
      "\u001b[0;32m<ipython-input-22-9fe5c1f068f4>\u001b[0m in \u001b[0;36m<module>\u001b[0;34m()\u001b[0m\n\u001b[1;32m     16\u001b[0m \u001b[0mlstmCell\u001b[0m \u001b[0;34m=\u001b[0m \u001b[0mtf\u001b[0m\u001b[0;34m.\u001b[0m\u001b[0mcontrib\u001b[0m\u001b[0;34m.\u001b[0m\u001b[0mrnn\u001b[0m\u001b[0;34m.\u001b[0m\u001b[0mBasicLSTMCell\u001b[0m\u001b[0;34m(\u001b[0m\u001b[0mlstmUnits\u001b[0m\u001b[0;34m)\u001b[0m\u001b[0;34m\u001b[0m\u001b[0m\n\u001b[1;32m     17\u001b[0m \u001b[0mlstmCell\u001b[0m \u001b[0;34m=\u001b[0m \u001b[0mtf\u001b[0m\u001b[0;34m.\u001b[0m\u001b[0mcontrib\u001b[0m\u001b[0;34m.\u001b[0m\u001b[0mrnn\u001b[0m\u001b[0;34m.\u001b[0m\u001b[0mDropoutWrapper\u001b[0m\u001b[0;34m(\u001b[0m\u001b[0mcell\u001b[0m\u001b[0;34m=\u001b[0m\u001b[0mlstmCell\u001b[0m\u001b[0;34m,\u001b[0m \u001b[0moutput_keep_prob\u001b[0m\u001b[0;34m=\u001b[0m\u001b[0;36m0.75\u001b[0m\u001b[0;34m)\u001b[0m\u001b[0;34m\u001b[0m\u001b[0m\n\u001b[0;32m---> 18\u001b[0;31m \u001b[0mvalue\u001b[0m\u001b[0;34m,\u001b[0m \u001b[0m_\u001b[0m \u001b[0;34m=\u001b[0m \u001b[0mtf\u001b[0m\u001b[0;34m.\u001b[0m\u001b[0mnn\u001b[0m\u001b[0;34m.\u001b[0m\u001b[0mdynamic_rnn\u001b[0m\u001b[0;34m(\u001b[0m\u001b[0mlstmCell\u001b[0m\u001b[0;34m,\u001b[0m \u001b[0mdata\u001b[0m\u001b[0;34m,\u001b[0m \u001b[0mdtype\u001b[0m\u001b[0;34m=\u001b[0m\u001b[0mtf\u001b[0m\u001b[0;34m.\u001b[0m\u001b[0mfloat32\u001b[0m\u001b[0;34m)\u001b[0m\u001b[0;34m\u001b[0m\u001b[0m\n\u001b[0m\u001b[1;32m     19\u001b[0m \u001b[0;31m# print(value.eval())\u001b[0m\u001b[0;34m\u001b[0m\u001b[0;34m\u001b[0m\u001b[0m\n\u001b[1;32m     20\u001b[0m \u001b[0;31m# print(_)\u001b[0m\u001b[0;34m\u001b[0m\u001b[0;34m\u001b[0m\u001b[0m\n",
      "\u001b[0;32m/usr/local/lib/python3.5/dist-packages/tensorflow/python/ops/rnn.py\u001b[0m in \u001b[0;36mdynamic_rnn\u001b[0;34m(cell, inputs, sequence_length, initial_state, dtype, parallel_iterations, swap_memory, time_major, scope)\u001b[0m\n\u001b[1;32m    551\u001b[0m         \u001b[0mswap_memory\u001b[0m\u001b[0;34m=\u001b[0m\u001b[0mswap_memory\u001b[0m\u001b[0;34m,\u001b[0m\u001b[0;34m\u001b[0m\u001b[0m\n\u001b[1;32m    552\u001b[0m         \u001b[0msequence_length\u001b[0m\u001b[0;34m=\u001b[0m\u001b[0msequence_length\u001b[0m\u001b[0;34m,\u001b[0m\u001b[0;34m\u001b[0m\u001b[0m\n\u001b[0;32m--> 553\u001b[0;31m         dtype=dtype)\n\u001b[0m\u001b[1;32m    554\u001b[0m \u001b[0;34m\u001b[0m\u001b[0m\n\u001b[1;32m    555\u001b[0m     \u001b[0;31m# Outputs of _dynamic_rnn_loop are always shaped [time, batch, depth].\u001b[0m\u001b[0;34m\u001b[0m\u001b[0;34m\u001b[0m\u001b[0m\n",
      "\u001b[0;32m/usr/local/lib/python3.5/dist-packages/tensorflow/python/ops/rnn.py\u001b[0m in \u001b[0;36m_dynamic_rnn_loop\u001b[0;34m(cell, inputs, initial_state, parallel_iterations, swap_memory, sequence_length, dtype)\u001b[0m\n\u001b[1;32m    718\u001b[0m       \u001b[0mloop_vars\u001b[0m\u001b[0;34m=\u001b[0m\u001b[0;34m(\u001b[0m\u001b[0mtime\u001b[0m\u001b[0;34m,\u001b[0m \u001b[0moutput_ta\u001b[0m\u001b[0;34m,\u001b[0m \u001b[0mstate\u001b[0m\u001b[0;34m)\u001b[0m\u001b[0;34m,\u001b[0m\u001b[0;34m\u001b[0m\u001b[0m\n\u001b[1;32m    719\u001b[0m       \u001b[0mparallel_iterations\u001b[0m\u001b[0;34m=\u001b[0m\u001b[0mparallel_iterations\u001b[0m\u001b[0;34m,\u001b[0m\u001b[0;34m\u001b[0m\u001b[0m\n\u001b[0;32m--> 720\u001b[0;31m       swap_memory=swap_memory)\n\u001b[0m\u001b[1;32m    721\u001b[0m \u001b[0;34m\u001b[0m\u001b[0m\n\u001b[1;32m    722\u001b[0m   \u001b[0;31m# Unpack final output if not using output tuples.\u001b[0m\u001b[0;34m\u001b[0m\u001b[0;34m\u001b[0m\u001b[0m\n",
      "\u001b[0;32m/usr/local/lib/python3.5/dist-packages/tensorflow/python/ops/control_flow_ops.py\u001b[0m in \u001b[0;36mwhile_loop\u001b[0;34m(cond, body, loop_vars, shape_invariants, parallel_iterations, back_prop, swap_memory, name)\u001b[0m\n\u001b[1;32m   2621\u001b[0m     \u001b[0mcontext\u001b[0m \u001b[0;34m=\u001b[0m \u001b[0mWhileContext\u001b[0m\u001b[0;34m(\u001b[0m\u001b[0mparallel_iterations\u001b[0m\u001b[0;34m,\u001b[0m \u001b[0mback_prop\u001b[0m\u001b[0;34m,\u001b[0m \u001b[0mswap_memory\u001b[0m\u001b[0;34m,\u001b[0m \u001b[0mname\u001b[0m\u001b[0;34m)\u001b[0m\u001b[0;34m\u001b[0m\u001b[0m\n\u001b[1;32m   2622\u001b[0m     \u001b[0mops\u001b[0m\u001b[0;34m.\u001b[0m\u001b[0madd_to_collection\u001b[0m\u001b[0;34m(\u001b[0m\u001b[0mops\u001b[0m\u001b[0;34m.\u001b[0m\u001b[0mGraphKeys\u001b[0m\u001b[0;34m.\u001b[0m\u001b[0mWHILE_CONTEXT\u001b[0m\u001b[0;34m,\u001b[0m \u001b[0mcontext\u001b[0m\u001b[0;34m)\u001b[0m\u001b[0;34m\u001b[0m\u001b[0m\n\u001b[0;32m-> 2623\u001b[0;31m     \u001b[0mresult\u001b[0m \u001b[0;34m=\u001b[0m \u001b[0mcontext\u001b[0m\u001b[0;34m.\u001b[0m\u001b[0mBuildLoop\u001b[0m\u001b[0;34m(\u001b[0m\u001b[0mcond\u001b[0m\u001b[0;34m,\u001b[0m \u001b[0mbody\u001b[0m\u001b[0;34m,\u001b[0m \u001b[0mloop_vars\u001b[0m\u001b[0;34m,\u001b[0m \u001b[0mshape_invariants\u001b[0m\u001b[0;34m)\u001b[0m\u001b[0;34m\u001b[0m\u001b[0m\n\u001b[0m\u001b[1;32m   2624\u001b[0m     \u001b[0;32mreturn\u001b[0m \u001b[0mresult\u001b[0m\u001b[0;34m\u001b[0m\u001b[0m\n\u001b[1;32m   2625\u001b[0m \u001b[0;34m\u001b[0m\u001b[0m\n",
      "\u001b[0;32m/usr/local/lib/python3.5/dist-packages/tensorflow/python/ops/control_flow_ops.py\u001b[0m in \u001b[0;36mBuildLoop\u001b[0;34m(self, pred, body, loop_vars, shape_invariants)\u001b[0m\n\u001b[1;32m   2454\u001b[0m       \u001b[0mself\u001b[0m\u001b[0;34m.\u001b[0m\u001b[0mEnter\u001b[0m\u001b[0;34m(\u001b[0m\u001b[0;34m)\u001b[0m\u001b[0;34m\u001b[0m\u001b[0m\n\u001b[1;32m   2455\u001b[0m       original_body_result, exit_vars = self._BuildLoop(\n\u001b[0;32m-> 2456\u001b[0;31m           pred, body, original_loop_vars, loop_vars, shape_invariants)\n\u001b[0m\u001b[1;32m   2457\u001b[0m     \u001b[0;32mfinally\u001b[0m\u001b[0;34m:\u001b[0m\u001b[0;34m\u001b[0m\u001b[0m\n\u001b[1;32m   2458\u001b[0m       \u001b[0mself\u001b[0m\u001b[0;34m.\u001b[0m\u001b[0mExit\u001b[0m\u001b[0;34m(\u001b[0m\u001b[0;34m)\u001b[0m\u001b[0;34m\u001b[0m\u001b[0m\n",
      "\u001b[0;32m/usr/local/lib/python3.5/dist-packages/tensorflow/python/ops/control_flow_ops.py\u001b[0m in \u001b[0;36m_BuildLoop\u001b[0;34m(self, pred, body, original_loop_vars, loop_vars, shape_invariants)\u001b[0m\n\u001b[1;32m   2404\u001b[0m         \u001b[0mstructure\u001b[0m\u001b[0;34m=\u001b[0m\u001b[0moriginal_loop_vars\u001b[0m\u001b[0;34m,\u001b[0m\u001b[0;34m\u001b[0m\u001b[0m\n\u001b[1;32m   2405\u001b[0m         flat_sequence=vars_for_body_with_tensor_arrays)\n\u001b[0;32m-> 2406\u001b[0;31m     \u001b[0mbody_result\u001b[0m \u001b[0;34m=\u001b[0m \u001b[0mbody\u001b[0m\u001b[0;34m(\u001b[0m\u001b[0;34m*\u001b[0m\u001b[0mpacked_vars_for_body\u001b[0m\u001b[0;34m)\u001b[0m\u001b[0;34m\u001b[0m\u001b[0m\n\u001b[0m\u001b[1;32m   2407\u001b[0m     \u001b[0;32mif\u001b[0m \u001b[0;32mnot\u001b[0m \u001b[0mnest\u001b[0m\u001b[0;34m.\u001b[0m\u001b[0mis_sequence\u001b[0m\u001b[0;34m(\u001b[0m\u001b[0mbody_result\u001b[0m\u001b[0;34m)\u001b[0m\u001b[0;34m:\u001b[0m\u001b[0;34m\u001b[0m\u001b[0m\n\u001b[1;32m   2408\u001b[0m       \u001b[0mbody_result\u001b[0m \u001b[0;34m=\u001b[0m \u001b[0;34m[\u001b[0m\u001b[0mbody_result\u001b[0m\u001b[0;34m]\u001b[0m\u001b[0;34m\u001b[0m\u001b[0m\n",
      "\u001b[0;32m/usr/local/lib/python3.5/dist-packages/tensorflow/python/ops/rnn.py\u001b[0m in \u001b[0;36m_time_step\u001b[0;34m(time, output_ta_t, state)\u001b[0m\n\u001b[1;32m    703\u001b[0m           skip_conditionals=True)\n\u001b[1;32m    704\u001b[0m     \u001b[0;32melse\u001b[0m\u001b[0;34m:\u001b[0m\u001b[0;34m\u001b[0m\u001b[0m\n\u001b[0;32m--> 705\u001b[0;31m       \u001b[0;34m(\u001b[0m\u001b[0moutput\u001b[0m\u001b[0;34m,\u001b[0m \u001b[0mnew_state\u001b[0m\u001b[0;34m)\u001b[0m \u001b[0;34m=\u001b[0m \u001b[0mcall_cell\u001b[0m\u001b[0;34m(\u001b[0m\u001b[0;34m)\u001b[0m\u001b[0;34m\u001b[0m\u001b[0m\n\u001b[0m\u001b[1;32m    706\u001b[0m \u001b[0;34m\u001b[0m\u001b[0m\n\u001b[1;32m    707\u001b[0m     \u001b[0;31m# Pack state if using state tuples\u001b[0m\u001b[0;34m\u001b[0m\u001b[0;34m\u001b[0m\u001b[0m\n",
      "\u001b[0;32m/usr/local/lib/python3.5/dist-packages/tensorflow/python/ops/rnn.py\u001b[0m in \u001b[0;36m<lambda>\u001b[0;34m()\u001b[0m\n\u001b[1;32m    689\u001b[0m \u001b[0;34m\u001b[0m\u001b[0m\n\u001b[1;32m    690\u001b[0m     \u001b[0minput_t\u001b[0m \u001b[0;34m=\u001b[0m \u001b[0mnest\u001b[0m\u001b[0;34m.\u001b[0m\u001b[0mpack_sequence_as\u001b[0m\u001b[0;34m(\u001b[0m\u001b[0mstructure\u001b[0m\u001b[0;34m=\u001b[0m\u001b[0minputs\u001b[0m\u001b[0;34m,\u001b[0m \u001b[0mflat_sequence\u001b[0m\u001b[0;34m=\u001b[0m\u001b[0minput_t\u001b[0m\u001b[0;34m)\u001b[0m\u001b[0;34m\u001b[0m\u001b[0m\n\u001b[0;32m--> 691\u001b[0;31m     \u001b[0mcall_cell\u001b[0m \u001b[0;34m=\u001b[0m \u001b[0;32mlambda\u001b[0m\u001b[0;34m:\u001b[0m \u001b[0mcell\u001b[0m\u001b[0;34m(\u001b[0m\u001b[0minput_t\u001b[0m\u001b[0;34m,\u001b[0m \u001b[0mstate\u001b[0m\u001b[0;34m)\u001b[0m\u001b[0;34m\u001b[0m\u001b[0m\n\u001b[0m\u001b[1;32m    692\u001b[0m \u001b[0;34m\u001b[0m\u001b[0m\n\u001b[1;32m    693\u001b[0m     \u001b[0;32mif\u001b[0m \u001b[0msequence_length\u001b[0m \u001b[0;32mis\u001b[0m \u001b[0;32mnot\u001b[0m \u001b[0;32mNone\u001b[0m\u001b[0;34m:\u001b[0m\u001b[0;34m\u001b[0m\u001b[0m\n",
      "\u001b[0;32m/usr/local/lib/python3.5/dist-packages/tensorflow/contrib/rnn/python/ops/core_rnn_cell_impl.py\u001b[0m in \u001b[0;36m__call__\u001b[0;34m(self, inputs, state, scope)\u001b[0m\n\u001b[1;32m    711\u001b[0m                              \u001b[0mself\u001b[0m\u001b[0;34m.\u001b[0m\u001b[0m_recurrent_input_noise\u001b[0m\u001b[0;34m,\u001b[0m\u001b[0;34m\u001b[0m\u001b[0m\n\u001b[1;32m    712\u001b[0m                              self._input_keep_prob)\n\u001b[0;32m--> 713\u001b[0;31m     \u001b[0moutput\u001b[0m\u001b[0;34m,\u001b[0m \u001b[0mnew_state\u001b[0m \u001b[0;34m=\u001b[0m \u001b[0mself\u001b[0m\u001b[0;34m.\u001b[0m\u001b[0m_cell\u001b[0m\u001b[0;34m(\u001b[0m\u001b[0minputs\u001b[0m\u001b[0;34m,\u001b[0m \u001b[0mstate\u001b[0m\u001b[0;34m,\u001b[0m \u001b[0mscope\u001b[0m\u001b[0;34m)\u001b[0m\u001b[0;34m\u001b[0m\u001b[0m\n\u001b[0m\u001b[1;32m    714\u001b[0m     \u001b[0;32mif\u001b[0m \u001b[0m_should_dropout\u001b[0m\u001b[0;34m(\u001b[0m\u001b[0mself\u001b[0m\u001b[0;34m.\u001b[0m\u001b[0m_state_keep_prob\u001b[0m\u001b[0;34m)\u001b[0m\u001b[0;34m:\u001b[0m\u001b[0;34m\u001b[0m\u001b[0m\n\u001b[1;32m    715\u001b[0m       new_state = self._dropout(new_state, \"state\",\n",
      "\u001b[0;32m/usr/local/lib/python3.5/dist-packages/tensorflow/contrib/rnn/python/ops/core_rnn_cell_impl.py\u001b[0m in \u001b[0;36m__call__\u001b[0;34m(self, inputs, state, scope)\u001b[0m\n\u001b[1;32m    233\u001b[0m   \u001b[0;32mdef\u001b[0m \u001b[0m__call__\u001b[0m\u001b[0;34m(\u001b[0m\u001b[0mself\u001b[0m\u001b[0;34m,\u001b[0m \u001b[0minputs\u001b[0m\u001b[0;34m,\u001b[0m \u001b[0mstate\u001b[0m\u001b[0;34m,\u001b[0m \u001b[0mscope\u001b[0m\u001b[0;34m=\u001b[0m\u001b[0;32mNone\u001b[0m\u001b[0;34m)\u001b[0m\u001b[0;34m:\u001b[0m\u001b[0;34m\u001b[0m\u001b[0m\n\u001b[1;32m    234\u001b[0m     \u001b[0;34m\"\"\"Long short-term memory cell (LSTM).\"\"\"\u001b[0m\u001b[0;34m\u001b[0m\u001b[0m\n\u001b[0;32m--> 235\u001b[0;31m     \u001b[0;32mwith\u001b[0m \u001b[0m_checked_scope\u001b[0m\u001b[0;34m(\u001b[0m\u001b[0mself\u001b[0m\u001b[0;34m,\u001b[0m \u001b[0mscope\u001b[0m \u001b[0;32mor\u001b[0m \u001b[0;34m\"basic_lstm_cell\"\u001b[0m\u001b[0;34m,\u001b[0m \u001b[0mreuse\u001b[0m\u001b[0;34m=\u001b[0m\u001b[0mself\u001b[0m\u001b[0;34m.\u001b[0m\u001b[0m_reuse\u001b[0m\u001b[0;34m)\u001b[0m\u001b[0;34m:\u001b[0m\u001b[0;34m\u001b[0m\u001b[0m\n\u001b[0m\u001b[1;32m    236\u001b[0m       \u001b[0;31m# Parameters of gates are concatenated into one multiply for efficiency.\u001b[0m\u001b[0;34m\u001b[0m\u001b[0;34m\u001b[0m\u001b[0m\n\u001b[1;32m    237\u001b[0m       \u001b[0;32mif\u001b[0m \u001b[0mself\u001b[0m\u001b[0;34m.\u001b[0m\u001b[0m_state_is_tuple\u001b[0m\u001b[0;34m:\u001b[0m\u001b[0;34m\u001b[0m\u001b[0m\n",
      "\u001b[0;32m/usr/lib/python3.5/contextlib.py\u001b[0m in \u001b[0;36m__enter__\u001b[0;34m(self)\u001b[0m\n\u001b[1;32m     57\u001b[0m     \u001b[0;32mdef\u001b[0m \u001b[0m__enter__\u001b[0m\u001b[0;34m(\u001b[0m\u001b[0mself\u001b[0m\u001b[0;34m)\u001b[0m\u001b[0;34m:\u001b[0m\u001b[0;34m\u001b[0m\u001b[0m\n\u001b[1;32m     58\u001b[0m         \u001b[0;32mtry\u001b[0m\u001b[0;34m:\u001b[0m\u001b[0;34m\u001b[0m\u001b[0m\n\u001b[0;32m---> 59\u001b[0;31m             \u001b[0;32mreturn\u001b[0m \u001b[0mnext\u001b[0m\u001b[0;34m(\u001b[0m\u001b[0mself\u001b[0m\u001b[0;34m.\u001b[0m\u001b[0mgen\u001b[0m\u001b[0;34m)\u001b[0m\u001b[0;34m\u001b[0m\u001b[0m\n\u001b[0m\u001b[1;32m     60\u001b[0m         \u001b[0;32mexcept\u001b[0m \u001b[0mStopIteration\u001b[0m\u001b[0;34m:\u001b[0m\u001b[0;34m\u001b[0m\u001b[0m\n\u001b[1;32m     61\u001b[0m             \u001b[0;32mraise\u001b[0m \u001b[0mRuntimeError\u001b[0m\u001b[0;34m(\u001b[0m\u001b[0;34m\"generator didn't yield\"\u001b[0m\u001b[0;34m)\u001b[0m \u001b[0;32mfrom\u001b[0m \u001b[0;32mNone\u001b[0m\u001b[0;34m\u001b[0m\u001b[0m\n",
      "\u001b[0;32m/usr/local/lib/python3.5/dist-packages/tensorflow/contrib/rnn/python/ops/core_rnn_cell_impl.py\u001b[0m in \u001b[0;36m_checked_scope\u001b[0;34m(cell, scope, reuse, **kwargs)\u001b[0m\n\u001b[1;32m     91\u001b[0m             \u001b[0;34m\"To share the weights of an RNNCell, simply \"\u001b[0m\u001b[0;34m\u001b[0m\u001b[0m\n\u001b[1;32m     92\u001b[0m             \u001b[0;34m\"reuse it in your second calculation, or create a new one with \"\u001b[0m\u001b[0;34m\u001b[0m\u001b[0m\n\u001b[0;32m---> 93\u001b[0;31m             \"the argument reuse=True.\" % (scope_name, type(cell).__name__))\n\u001b[0m\u001b[1;32m     94\u001b[0m \u001b[0;34m\u001b[0m\u001b[0m\n\u001b[1;32m     95\u001b[0m     \u001b[0;31m# Everything is OK.  Update the cell's scope and yield it.\u001b[0m\u001b[0;34m\u001b[0m\u001b[0;34m\u001b[0m\u001b[0m\n",
      "\u001b[0;31mValueError\u001b[0m: Attempt to have a second RNNCell use the weights of a variable scope that already has weights: 'rnn/basic_lstm_cell'; and the cell was not constructed as BasicLSTMCell(..., reuse=True).  To share the weights of an RNNCell, simply reuse it in your second calculation, or create a new one with the argument reuse=True."
     ]
    }
   ],
   "source": [
    "'''\n",
    "tf.nn.rnn_cell.BasicLSTMCell(n_hidden, forget_bias=1.0, state_is_tuple=True): n_hidden表示神经元的个数，forget_bias就是LSTM们的忘记系数，如果等于1，就是不会忘记任何信息。如果等于0，就都忘记。state_is_tuple默认就是True，官方建议用True，就是表示返回的状态用一个元祖表示。这个里面存在一个状态初始化函数，就是zero_state（batch_size，dtype）两个参数。batch_size就是输入样本批次的数目，dtype就是数据类型。\n",
    "\n",
    "RNN中的dropout和cnn不同，在RNN中，时间序列方向不进行dropout，也就是说从t-1时刻的状态传递到t时刻进行计算时，这个中间不进行memory的dropout；如下图所示，Dropout仅应用于虚线方向的输入，即仅针对于上一层的输出做Dropout。\n",
    "Args:\n",
    "\n",
    "cell: an RNNCell, a projection to output_size is added to it.\n",
    "\n",
    "input_keep_prob: unit Tensor or float between 0 and 1, input keep probability; if it is float and 1, no input dropout will be added.\n",
    "\n",
    "output_keep_prob: unit Tensor or float between 0 and 1, output keep probability; if it is float and 1, no output dropout will be added.\n",
    "\n",
    "seed: (optional) integer, the randomness seed.\n",
    "\n",
    "value是output结果，_是final state，如果有n layer，则是final state也有n个元素，对应每一层的state。\n",
    "\n",
    "'''\n",
    "lstmCell = tf.contrib.rnn.BasicLSTMCell(lstmUnits)\n",
    "lstmCell = tf.contrib.rnn.DropoutWrapper(cell=lstmCell, output_keep_prob=0.75)\n",
    "value, _ = tf.nn.dynamic_rnn(lstmCell, data, dtype=tf.float32)\n",
    "# print(value.eval())\n",
    "# print(_)"
   ]
  },
  {
   "cell_type": "markdown",
   "metadata": {},
   "source": [
    "As a side note, another more advanced network architecture choice is to stack multiple LSTM cells on top of each other. This is where the final hidden state vector of the first LSTM feeds into the second. Stacking these cells is a great way to help the model retain more long term dependence information, but also introduces more parameters into the model, thus possibly increasing the training time, the need for additional training examples, and the chance of overfitting. For more information on how you can add stacked LSTMs to your model, check out Tensorflow's excellent [documentation](https://www.tensorflow.org/tutorials/recurrent#stacking_multiple_lstms)."
   ]
  },
  {
   "cell_type": "markdown",
   "metadata": {},
   "source": [
    "The first output of the dynamic RNN function can be thought of as the last hidden state vector. This vector will be reshaped and then multiplied by a final weight matrix and a bias term to obtain the final output values."
   ]
  },
  {
   "cell_type": "code",
   "execution_count": 23,
   "metadata": {},
   "outputs": [
    {
     "name": "stdout",
     "output_type": "stream",
     "text": [
      "Tensor(\"Gather:0\", shape=(24, 64), dtype=float32)\n"
     ]
    }
   ],
   "source": [
    "'''\n",
    "tf.truncated_normal(shape, mean, stddev) :shape表示生成张量的维度，mean是均值，stddev是标准差。这个函数产生正太分布，均值和标准差自己设定。这是一个截断的产生正太分布的函数，\n",
    "\n",
    "tf.constant创建一个常量tensor，按照给出value来赋值，可以用shape来指定其形状。value可以是一个数，也可以是一个list。 \n",
    "\n",
    "tf.transpose(input, [dimension_1, dimenaion_2,..,dimension_n]):这个函数主要适用于交换输入张量的不同维度用的，如果输入张量是二维，就相当是转置。dimension_n是整数，如果张量是三维，就是用0,1,2来表示。这个列表里的每个数对应相应的维度。如果是[2,1,0]，就把输入张量的第三维度和第一维度交换。\n",
    "\n",
    "value是rnn运行后的output\n",
    "\n",
    "gather(\n",
    "    params,\n",
    "    indices,\n",
    "    validate_indices=None,\n",
    "    name=None\n",
    ")\n",
    "参数说明：params是一个tensor， indices是个值为int的tensor用来指定要从params取得元素的第0维的index。该函数可看成是tf.nn.embedding_lookup()的特殊形式，所以功能与其类是，即将其看成是embedding_lookup函数的params参数内只有一个tensor时的情形。\n",
    "\n",
    "'''\n",
    "weight = tf.Variable(tf.truncated_normal([lstmUnits, numClasses]))\n",
    "bias = tf.Variable(tf.constant(0.1, shape=[numClasses]))\n",
    "value = tf.transpose(value, [1, 0, 2])\n",
    "last = tf.gather(value, int(value.get_shape()[0]) - 1)\n",
    "# print(last)\n",
    "prediction = (tf.matmul(last, weight) + bias)"
   ]
  },
  {
   "cell_type": "markdown",
   "metadata": {},
   "source": [
    "Next, we’ll define correct prediction and accuracy metrics to track how the network is doing. The correct prediction formulation works by looking at the index of the maximum value of the 2 output values, and then seeing whether it matches with the training labels. "
   ]
  },
  {
   "cell_type": "code",
   "execution_count": 44,
   "metadata": {
    "collapsed": true
   },
   "outputs": [],
   "source": [
    "'''\n",
    "tf.argmax此函数是对矩阵按行或列计算最大值, \n",
    "\n",
    "input：输入Tensor\n",
    "axis：0表示按列，1表示按行\n",
    "name：名称\n",
    "dimension：和axis功能一样，默认axis取值优先。新加的字段\n",
    "\n",
    " tf.reduce_mean(input_tensor, reduction_indices=None, keep_dims=False, name=None)\n",
    "功能：求平均值\n",
    "\n",
    "tf.cast(x, dtype, name=None)\n",
    "此函数是类型转换函数\n",
    "\n",
    "参数\n",
    "x：输入\n",
    "dtype：转换目标类型\n",
    "name：名称\n",
    "'''\n",
    "correctPred = tf.equal(tf.argmax(prediction,1), tf.argmax(labels,1))\n",
    "accuracy = tf.reduce_mean(tf.cast(correctPred, tf.float32))"
   ]
  },
  {
   "cell_type": "markdown",
   "metadata": {},
   "source": [
    "We’ll define a standard cross entropy loss with a softmax layer put on top of the final prediction values. For the optimizer, we’ll use Adam and the default learning rate of .001. "
   ]
  },
  {
   "cell_type": "code",
   "execution_count": 45,
   "metadata": {
    "collapsed": true
   },
   "outputs": [],
   "source": [
    "'''\n",
    "首先明确一点，loss是代价值，也就是我们要最小化的值\n",
    "\n",
    "tf.nn.softmax_cross_entropy_with_logits(logits, labels, name=None)\n",
    "除去name参数用以指定该操作的name，与方法有关的一共两个参数：\n",
    "第一个参数logits：就是神经网络最后一层的输出，如果有batch的话，它的大小就是[batchsize，num_classes]，单样本的话，大小就是num_classes\n",
    "\n",
    "第二个参数labels：实际的标签，大小同上\n",
    "\n",
    "class tf.train.AdamOptimizer\n",
    "\n",
    "__init__(learning_rate=0.001, beta1=0.9, beta2=0.999, epsilon=1e-08, use_locking=False, name='Adam')\n",
    "\n",
    "此函数是Adam优化算法：是一个寻找全局最优点的优化算法，引入了二次方梯度校正。\n",
    "\n",
    "相比于基础SGD算法，1.不容易陷于局部优点。2.速度更快\n",
    "'''\n",
    "loss = tf.reduce_mean(tf.nn.softmax_cross_entropy_with_logits(logits=prediction, labels=labels))\n",
    "optimizer = tf.train.AdamOptimizer().minimize(loss)"
   ]
  },
  {
   "cell_type": "markdown",
   "metadata": {},
   "source": [
    "If you’d like to use Tensorboard to visualize the loss and accuracy values, you can also run and the modify the following code. "
   ]
  },
  {
   "cell_type": "code",
   "execution_count": 50,
   "metadata": {
    "collapsed": true
   },
   "outputs": [],
   "source": [
    "import datetime\n",
    "\n",
    "tf.summary.scalar('Loss', loss)\n",
    "tf.summary.scalar('Accuracy', accuracy)\n",
    "merged = tf.summary.merge_all()\n",
    "logdir = \"tensorboard/\" + datetime.datetime.now().strftime(\"%Y%m%d-%H%M%S\") + \"/\"\n",
    "writer = tf.summary.FileWriter(logdir, sess.graph)"
   ]
  },
  {
   "cell_type": "markdown",
   "metadata": {},
   "source": [
    "# Hyperparameter Tuning"
   ]
  },
  {
   "cell_type": "markdown",
   "metadata": {},
   "source": [
    "Choosing the right values for your hyperparameters is a crucial part of training deep neural networks effectively. You'll find that your training loss curves can vary with your choice of optimizer (Adam, Adadelta, SGD, etc), learning rate, and network architecture. With RNNs and LSTMs in particular, some other important factors include the number of LSTM units and the size of the word vectors.\n",
    "\n",
    "* Learning Rate: RNNs are infamous for being diffult to train because of the large number of time steps they have. Learning rate becomes extremely important since we don't want our weight values to fluctuate wildly as a result of a large learning rate, nor do we want a slow training process due to a low learning rate. The default value of 0.001 is a good place to start. You should increase this value if the training loss is changing very slowly, and decrease if the loss is unstable.  \n",
    "* Optimizer: There isn't a consensus choice among researchers, but Adam has been widely popular due to having the adaptive learning rate property (Keep in mind that optimal learning rates can differ with the choice of optimizer).\n",
    "* Number of LSTM units: This value is largely dependent on the average length of your input texts. While a greater number of units provides more expressibility for the model and allows the model to store more information for longer texts, the network will take longer to train and will be computationally expensive. \n",
    "* Word Vector Size: Dimensions for word vectors generally range from 50 to 300. A larger size means that the vector is able to encapsulate more information about the word, but you should also expect a more computationally expensive model. "
   ]
  },
  {
   "cell_type": "markdown",
   "metadata": {},
   "source": [
    "# Training"
   ]
  },
  {
   "cell_type": "markdown",
   "metadata": {},
   "source": [
    "The basic idea of the training loop is that we first define a Tensorflow session. Then, we load in a batch of reviews and their associated labels. Next, we call the session’s `run` function. This function has two arguments. The first is called the \"fetches\" argument. It defines the value we’re interested in computing. We want our optimizer to be computed since that is the component that minimizes our loss function. The second argument is where we input our `feed_dict`. This data structure is where we provide inputs to all of our placeholders. We need to feed our batch of reviews and our batch of labels. This loop is then repeated for a set number of training iterations."
   ]
  },
  {
   "cell_type": "markdown",
   "metadata": {},
   "source": [
    "Instead of training the network in this notebook (which will take at least a couple of hours), we’ll load in a pretrained model.\n",
    "\n",
    "If you decide to train this notebook on your own machine, note that you can track its progress using [TensorBoard](https://www.tensorflow.org/get_started/summaries_and_tensorboard). While the following cell is running, use your terminal to enter the directory that contains this notebook, enter `tensorboard --logdir=tensorboard`, and visit http://localhost:6006/ with a browser to keep an eye on your training progress."
   ]
  },
  {
   "cell_type": "code",
   "execution_count": 51,
   "metadata": {
    "collapsed": true
   },
   "outputs": [],
   "source": [
    "sess = tf.InteractiveSession()\n",
    "saver = tf.train.Saver()\n",
    "sess.run(tf.global_variables_initializer())\n",
    "\n",
    "for i in range(iterations):\n",
    "   #Next Batch of reviews\n",
    "#    nextBatch, nextBatchLabels = getTrainBatch();\n",
    "   sess.run(optimizer, {input_data: nextBatch, labels: nextBatchLabels})\n",
    "   \n",
    "   #Write summary to Tensorboard\n",
    "   if (i % 50 == 0):\n",
    "       summary = sess.run(merged, {input_data: nextBatch, labels: nextBatchLabels})\n",
    "       writer.add_summary(summary, i)\n",
    "\n",
    "   #Save the network every 10,000 training iterations\n",
    "   if (i % 10000 == 0 and i != 0):\n",
    "       save_path = saver.save(sess, \"models/pretrained_lstm.ckpt\", global_step=i)\n",
    "       print(\"saved to %s\" % save_path)\n",
    "writer.close()"
   ]
  },
  {
   "cell_type": "markdown",
   "metadata": {},
   "source": [
    "# Loading a Pretrained Model"
   ]
  },
  {
   "cell_type": "markdown",
   "metadata": {},
   "source": [
    "Our pretrained model’s accuracy and loss curves during training can be found below. "
   ]
  },
  {
   "cell_type": "markdown",
   "metadata": {},
   "source": [
    "![caption](Images/SentimentAnalysis6.png)\n",
    "![caption](Images/SentimentAnalysis7.png)"
   ]
  },
  {
   "cell_type": "markdown",
   "metadata": {},
   "source": [
    "Looking at the training curves above, it seems that the model's training is going well. The loss is decreasing steadily, and the accuracy is approaching 100 percent. However, when analyzing training curves, we should also pay special attention to the possibility of our model overfitting the training dataset. Overfitting is a common phenomenon in machine learning where a model becomes so fit to the training data that it loses the ability to generalize to the test set. This means that training a network until you achieve 0 training loss might not be the best way to get an accurate model that performs well on data it has never seen before. Early stopping is an intuitive technique commonly used with LSTM networks to combat this issue. The basic idea is that we train the model on our training set, while also measuring its performance on the test set every now and again. Once the test error stops its steady decrease and begins to increase instead, you'll know to stop training, since this is a sign that the network has begun to overfit. "
   ]
  },
  {
   "cell_type": "markdown",
   "metadata": {},
   "source": [
    "Loading a pretrained model involves defining another Tensorflow session, creating a Saver object, and then using that object to call the restore function. This function takes into 2 arguments, one for the current session, and one for the name of the saved model. "
   ]
  },
  {
   "cell_type": "code",
   "execution_count": 48,
   "metadata": {},
   "outputs": [
    {
     "name": "stdout",
     "output_type": "stream",
     "text": [
      "INFO:tensorflow:Restoring parameters from models/pretrained_lstm.ckpt-90000\n"
     ]
    }
   ],
   "source": [
    "sess = tf.InteractiveSession()\n",
    "saver = tf.train.Saver()\n",
    "saver.restore(sess, tf.train.latest_checkpoint('models'))"
   ]
  },
  {
   "cell_type": "markdown",
   "metadata": {},
   "source": [
    "Then we’ll load some movie reviews from our test set. Remember, these are reviews that the model has not been trained on and has never seen before. The accuracy for each test batch can be seen when you run the following code. "
   ]
  },
  {
   "cell_type": "code",
   "execution_count": 49,
   "metadata": {},
   "outputs": [
    {
     "name": "stdout",
     "output_type": "stream",
     "text": [
      "Accuracy for this batch: 87.5\n",
      "Accuracy for this batch: 91.6666686535\n",
      "Accuracy for this batch: 83.3333313465\n",
      "Accuracy for this batch: 95.8333313465\n",
      "Accuracy for this batch: 87.5\n",
      "Accuracy for this batch: 75.0\n",
      "Accuracy for this batch: 87.5\n",
      "Accuracy for this batch: 95.8333313465\n",
      "Accuracy for this batch: 79.1666686535\n",
      "Accuracy for this batch: 79.1666686535\n"
     ]
    }
   ],
   "source": [
    "iterations = 10\n",
    "for i in range(iterations):\n",
    "    nextBatch, nextBatchLabels = getTestBatch();\n",
    "    print(\"Accuracy for this batch:\", (sess.run(accuracy, {input_data: nextBatch, labels: nextBatchLabels})) * 100)"
   ]
  },
  {
   "cell_type": "markdown",
   "metadata": {
    "collapsed": true
   },
   "source": [
    "# Conclusion"
   ]
  },
  {
   "cell_type": "markdown",
   "metadata": {},
   "source": [
    "In this notebook, we went over a deep learning approach to sentiment analysis. We looked at the different components involved in the whole pipeline and then looked at the process of writing Tensorflow code to implement the model in practice. Finally, we trained and tested the model so that it is able to classify movie reviews.\n",
    "\n",
    "With the help of Tensorflow, you can create your own sentiment classifiers to understand the large amounts of natural language in the world, and use the results to form actionable insights. Thanks for reading and following along!"
   ]
  }
 ],
 "metadata": {
  "anaconda-cloud": {},
  "kernelspec": {
   "display_name": "Python 3",
   "language": "python",
   "name": "python3"
  },
  "language_info": {
   "codemirror_mode": {
    "name": "ipython",
    "version": 3
   },
   "file_extension": ".py",
   "mimetype": "text/x-python",
   "name": "python",
   "nbconvert_exporter": "python",
   "pygments_lexer": "ipython3",
   "version": "3.5.2"
  }
 },
 "nbformat": 4,
 "nbformat_minor": 1
}
